{
 "cells": [
  {
   "cell_type": "markdown",
   "id": "9dab670b",
   "metadata": {},
   "source": [
    "# Dataset Review"
   ]
  },
  {
   "cell_type": "markdown",
   "id": "15dea9f3",
   "metadata": {},
   "source": [
    "### Android Malware Analysis Dataset"
   ]
  },
  {
   "cell_type": "markdown",
   "id": "086662d3",
   "metadata": {},
   "source": [
    "#### Overview \n",
    "\n",
    "In this exploration, we use two datasets that we found on a [Kaggle project](https://www.kaggle.com/xwolf12/android-malware-analysis/data) these two datasets are not directly related and are analysed separately. They are as follows:\n",
    "\n",
    "- 'train.csv' / Static Analysis; a labelled list of malicious and benign apps and the device permissions they use/ask for.\n",
    "    - The dataset is well-suited for training a classifier model that predicts whether a new app is malicious or benign based on the permissions that it asks for.\n",
    "    - Though the data is clean and complete it contains only a limited number of observations (398 total observations) with 50% of the observations/apps being malicious and the other 50% being benign. \n",
    "        - This may not be a representative split of the app store market both due to the low number of observations and the unrealistic split. It does, however, make model performance easier to measure and compare between models.\n",
    "    - As our target feature (malicious/benign) is labelled for us this constitutes a supervised learning problem.\n",
    "    \n",
    "    \n",
    "- 'android_traffic.csv' / Dynamic Analysis; again a labelled list of malicious and benign apps and their network traffic using pcap files captured by the 'DroidCollector' project; [A High Performance Framework for High Quality Android Traffic Collection'](https://ieeexplore.ieee.org/document/7847152). \n",
    "    - Comprised of 4705 benign and 7846 malicious apps and thus may be a more representative balance than the dataset above.\n",
    "    - Dataset is in need of cleaning as it was processed by the Kaggle authors' feature extractor script.\n",
    "    - Similar to above, the dataset is well-suited for training a classifier model that tries to use network traffic to detect whether an app is malicious or benign.\n",
    "    - As our target feature (malicious/benign) is labelled for us this, again, constitutes a supervised learning problem."
   ]
  },
  {
   "cell_type": "markdown",
   "id": "c07f17a2",
   "metadata": {},
   "source": [
    "#### Thoughts\n",
    "\n",
    "We found the 'train.csv' dataset quite interesting and we may revisit it again despite its comparatively small size.\n",
    "\n",
    "The 'android_traffic.csv' dataset was more involved and felt somewhat more realistic in terms of both size and complexity of the dataset. \n"
   ]
  },
  {
   "cell_type": "markdown",
   "id": "b67d8f6a",
   "metadata": {},
   "source": [
    "### Exploring Cyber Attacks Dataset"
   ]
  },
  {
   "cell_type": "markdown",
   "id": "5913c47d",
   "metadata": {},
   "source": [
    "#### Overview\n",
    "\n",
    "For the 'Exploring Cyber Attacks' exploration, we also used datasets found on [Kaggle](https://www.kaggle.com/iamranjann/exploring-attacks-cybersec). However, the dataset seemed to be deleted from the website and so we used `pd.to_csv` commands to export the dataset from within the Kaggle kernel. The exported dataset is shared on this Google Drive.\n",
    "\n",
    "As the two datasets are somewhat large (88MB and 44MB), we do not upload them into our github repository. Instead, we read the dataset from a shared Google Drive. The datasets are as follows and contain hyperlinks to view/download the data:\n",
    "\n",
    "- ['Cybersecurity_attacks.csv'](https://drive.google.com/file/d/1SUrZW5U--bjpgqXaeolv-YeuljvMnudP/view) ; dataframe of cybersecurity attacks listing the category of the attack, when the attack took place, for how long, what source IP/ports they came from, and what destionation IP/ports they targetted. \n",
    "- ['tcp_ports.xlsx'](https://drive.google.com/file/d/1YBMSkzsqnZgR1Z6viD-vejiRCNlWyFXE/view) ; a list of ports and what service they correspoond to, merged onto the inital dataset to improve readability of what service each destination port corresponds to."
   ]
  },
  {
   "cell_type": "markdown",
   "id": "bcf9d564",
   "metadata": {},
   "source": [
    "#### Thoughts\n",
    "\n",
    "While this dataset is useful and brings rise to interesting visualisations, we use it mainly for data analysis rather than performing any modelling. Further, we are unsure how the dataset was obtained and where from which leaves us questioning if it is a realistic dataset or not.\n",
    "\n",
    "It may be possible to use the data in the future to train predictive models but it is unclear how it would be useful on its own as it is comprised entirely of attacks and no normal/benign port/traffic activity. As a result, the most interesting type of prediction (predicting whether a certain access is an attack or normal traffic) would not be possible to carry out. We may revisit this in the future to try and see if we learn of new techniques that may be interesting to use on this dataset but as of now we do not think we will be exploring it further."
   ]
  }
 ],
 "metadata": {
  "kernelspec": {
   "display_name": "Python 3",
   "language": "python",
   "name": "python3"
  },
  "language_info": {
   "codemirror_mode": {
    "name": "ipython",
    "version": 3
   },
   "file_extension": ".py",
   "mimetype": "text/x-python",
   "name": "python",
   "nbconvert_exporter": "python",
   "pygments_lexer": "ipython3",
   "version": "3.8.8"
  }
 },
 "nbformat": 4,
 "nbformat_minor": 5
}
