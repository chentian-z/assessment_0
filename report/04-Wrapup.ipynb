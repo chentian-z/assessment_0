{
 "cells": [
  {
   "cell_type": "markdown",
   "id": "4c5eb98b",
   "metadata": {},
   "source": [
    "# Wrap Up"
   ]
  },
  {
   "cell_type": "markdown",
   "id": "388bcb2f",
   "metadata": {},
   "source": [
    "## Android Malware Dataset"
   ]
  },
  {
   "cell_type": "markdown",
   "id": "3fc8a2bf",
   "metadata": {},
   "source": [
    "### Static Analysis\n",
    "\n",
    "This dataset allowed us to use some basic data visualisation to understand the difference between permissions asked for by malicious and benign apps. The main output of the analysis, however, was to see if we could train machine learning models to predict whether an app was malicious or benign based on permissions accessed alone.\n",
    "\n",
    "For this analysis, we used Gaussian Naive Bayes, K-Nearest Neighbours, and Decision Tree Classifiers using a 67/33 train/test split. This reduced our accuracy compared to the original source who used a 80/20 train/test split, probably because the data was relatively small (398 observations/apps). However, we observed the same pattern in model performance i.e. Decision Tree performed better than KNN, which performed better than GNB. Our main measure for performance was accuracy as the data was split 50/50 malicious/benign."
   ]
  },
  {
   "cell_type": "markdown",
   "id": "ba3463c7",
   "metadata": {},
   "source": [
    "### Dynamic Analysis\n",
    "\n",
    "This dataset was more involved than the previous one. Here, we look at captured network traffic for malicious and benign android apps. The data was extracted by the original author and so we had to perform some data cleaning before it was usable unlike the previous one which was ready for use. We used data visualisation to help us with dropping certain columns and/or anomalous data before running classifier models as we did with the previous dataset.\n",
    "\n",
    "For this dataset, we used GNB and KNN again, but this time we used a Random Forest instead of a Decision Tree classifier. The same pattern as before emerged with Random Forests performing better than KNN, and KNN performing better than GNB."
   ]
  },
  {
   "cell_type": "markdown",
   "id": "9933da00",
   "metadata": {},
   "source": [
    "## Exploring Cybersec Attacks Dataset"
   ]
  },
  {
   "cell_type": "markdown",
   "id": "eaa03c75",
   "metadata": {},
   "source": [
    "This dataset was more focused on visualisation and analysis rather than modelling. We worked with a list of cybersecurity attacks, their categories, ports attacked, and time of attacks. We were able to use this to figure out what the most targeted destination IP address was, what logical ports were attacked, and the frequency of different types of attacks. \n",
    "\n",
    "We performed statistical t-tests to test the hypothesis that the source ports and destination ports for the attack were different which turned out to be the case. This let us know that these were targeted attacks at specific ports rather than random ones.\n",
    "\n",
    "We found that there were mainly 4 source IPs for the attacks and they performed targeted attacks on similar destination ports on 10 different destination IPs. Most attacks were categorised as either 'Exploit' or 'Fuzzer' attacks. We found the most targeted IPv4 address and what attacks affected most, running statistical tests again to show that the attack category was dependant on the port attacked further highlighting that this was a targeted series of attacks.\n",
    "\n",
    "Overall, this was very useful as we could see what types of attacks were most likely and what time those attacks are most frequently performed. This lets us know when we might need to defend most against specific attacks."
   ]
  }
 ],
 "metadata": {
  "kernelspec": {
   "display_name": "Python 3",
   "language": "python",
   "name": "python3"
  },
  "language_info": {
   "codemirror_mode": {
    "name": "ipython",
    "version": 3
   },
   "file_extension": ".py",
   "mimetype": "text/x-python",
   "name": "python",
   "nbconvert_exporter": "python",
   "pygments_lexer": "ipython3",
   "version": "3.8.8"
  }
 },
 "nbformat": 4,
 "nbformat_minor": 5
}
