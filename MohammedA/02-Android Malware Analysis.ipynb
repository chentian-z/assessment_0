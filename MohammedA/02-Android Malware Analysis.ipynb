{
 "cells": [
  {
   "cell_type": "markdown",
   "id": "06f055dc",
   "metadata": {},
   "source": [
    "# Android Malware Analysis"
   ]
  },
  {
   "cell_type": "markdown",
   "id": "cab8365f",
   "metadata": {},
   "source": [
    "**Uncomment and run the code below to install all the dependencies used in this Notebook**"
   ]
  },
  {
   "cell_type": "code",
   "execution_count": 22,
   "id": "cc574778",
   "metadata": {
    "scrolled": true
   },
   "outputs": [],
   "source": [
    "# pip install -r ../requirements.txt"
   ]
  },
  {
   "cell_type": "code",
   "execution_count": 2,
   "id": "450ecccc",
   "metadata": {},
   "outputs": [],
   "source": [
    "import torch\n",
    "import joblib\n",
    "import pickle\n",
    "import sklearn\n",
    "\n",
    "from sklearn.naive_bayes import GaussianNB, BernoulliNB\n",
    "from sklearn.metrics import accuracy_score, classification_report\n",
    "from sklearn.ensemble import BaggingClassifier\n",
    "from sklearn.neighbors import KNeighborsClassifier\n",
    "from sklearn.linear_model import SGDClassifier\n",
    "from sklearn.model_selection import train_test_split\n",
    "from sklearn.metrics import cohen_kappa_score\n",
    "from sklearn.metrics import confusion_matrix\n",
    "from sklearn.ensemble import RandomForestClassifier\n",
    "\n",
    "from sklearn import preprocessing\n",
    "from sklearn import svm\n",
    "from sklearn import tree\n",
    "\n",
    "import pandas as pd\n",
    "import numpy as np\n",
    "import seaborn as sns\n",
    "import matplotlib\n",
    "import matplotlib.pyplot as plt"
   ]
  },
  {
   "cell_type": "markdown",
   "id": "4daa25f1",
   "metadata": {},
   "source": [
    "# Static Analysis"
   ]
  },
  {
   "cell_type": "markdown",
   "id": "4f3880b6",
   "metadata": {},
   "source": [
    "We use a labelled dataset of malicious (type=1) and benign (type=0) Android apps and the smartphone permissions they ask to access. Where an app asks for a specific permission, the value is 1, and 0 otherwise."
   ]
  },
  {
   "cell_type": "code",
   "execution_count": 3,
   "id": "45322c4f",
   "metadata": {},
   "outputs": [],
   "source": [
    "df = pd.read_csv(\"../data/train.csv\", sep=\";\")"
   ]
  },
  {
   "cell_type": "code",
   "execution_count": 4,
   "id": "3c952283",
   "metadata": {},
   "outputs": [
    {
     "name": "stdout",
     "output_type": "stream",
     "text": [
      "<class 'pandas.core.frame.DataFrame'>\n",
      "RangeIndex: 398 entries, 0 to 397\n",
      "Columns: 331 entries, android to type\n",
      "dtypes: int64(331)\n",
      "memory usage: 1.0 MB\n"
     ]
    }
   ],
   "source": [
    "df.info() #our entire dataset should be type int64 as it is comprised of binary 0/1"
   ]
  },
  {
   "cell_type": "code",
   "execution_count": 5,
   "id": "99ed77b6",
   "metadata": {},
   "outputs": [
    {
     "data": {
      "text/html": [
       "<div>\n",
       "<style scoped>\n",
       "    .dataframe tbody tr th:only-of-type {\n",
       "        vertical-align: middle;\n",
       "    }\n",
       "\n",
       "    .dataframe tbody tr th {\n",
       "        vertical-align: top;\n",
       "    }\n",
       "\n",
       "    .dataframe thead th {\n",
       "        text-align: right;\n",
       "    }\n",
       "</style>\n",
       "<table border=\"1\" class=\"dataframe\">\n",
       "  <thead>\n",
       "    <tr style=\"text-align: right;\">\n",
       "      <th></th>\n",
       "      <th>android</th>\n",
       "      <th>android.app.cts.permission.TEST_GRANTED</th>\n",
       "      <th>android.intent.category.MASTER_CLEAR.permission.C2D_MESSAGE</th>\n",
       "      <th>android.os.cts.permission.TEST_GRANTED</th>\n",
       "      <th>android.permission.ACCESS_ALL_DOWNLOADS</th>\n",
       "      <th>android.permission.ACCESS_ALL_EXTERNAL_STORAGE</th>\n",
       "      <th>android.permission.ACCESS_BLUETOOTH_SHARE</th>\n",
       "      <th>android.permission.ACCESS_CACHE_FILESYSTEM</th>\n",
       "      <th>android.permission.ACCESS_CHECKIN_PROPERTIES</th>\n",
       "      <th>android.permission.ACCESS_COARSE_LOCATION</th>\n",
       "      <th>...</th>\n",
       "      <th>com.android.voicemail.permission.WRITE_VOICEMAIL</th>\n",
       "      <th>com.foo.mypermission</th>\n",
       "      <th>com.foo.mypermission2</th>\n",
       "      <th>org.chromium.chrome.shell.permission.C2D_MESSAGE</th>\n",
       "      <th>org.chromium.chrome.shell.permission.DEBUG</th>\n",
       "      <th>org.chromium.chrome.shell.permission.SANDBOX</th>\n",
       "      <th>org.chromium.chromecast.shell.permission.SANDBOX</th>\n",
       "      <th>org.chromium.content_shell.permission.SANDBOX</th>\n",
       "      <th>test_permission</th>\n",
       "      <th>type</th>\n",
       "    </tr>\n",
       "  </thead>\n",
       "  <tbody>\n",
       "    <tr>\n",
       "      <th>0</th>\n",
       "      <td>0</td>\n",
       "      <td>0</td>\n",
       "      <td>0</td>\n",
       "      <td>0</td>\n",
       "      <td>0</td>\n",
       "      <td>0</td>\n",
       "      <td>0</td>\n",
       "      <td>0</td>\n",
       "      <td>0</td>\n",
       "      <td>0</td>\n",
       "      <td>...</td>\n",
       "      <td>0</td>\n",
       "      <td>0</td>\n",
       "      <td>0</td>\n",
       "      <td>0</td>\n",
       "      <td>0</td>\n",
       "      <td>0</td>\n",
       "      <td>0</td>\n",
       "      <td>0</td>\n",
       "      <td>0</td>\n",
       "      <td>1</td>\n",
       "    </tr>\n",
       "    <tr>\n",
       "      <th>1</th>\n",
       "      <td>0</td>\n",
       "      <td>0</td>\n",
       "      <td>0</td>\n",
       "      <td>0</td>\n",
       "      <td>0</td>\n",
       "      <td>0</td>\n",
       "      <td>0</td>\n",
       "      <td>0</td>\n",
       "      <td>0</td>\n",
       "      <td>0</td>\n",
       "      <td>...</td>\n",
       "      <td>0</td>\n",
       "      <td>0</td>\n",
       "      <td>0</td>\n",
       "      <td>0</td>\n",
       "      <td>0</td>\n",
       "      <td>0</td>\n",
       "      <td>0</td>\n",
       "      <td>0</td>\n",
       "      <td>0</td>\n",
       "      <td>1</td>\n",
       "    </tr>\n",
       "    <tr>\n",
       "      <th>2</th>\n",
       "      <td>0</td>\n",
       "      <td>0</td>\n",
       "      <td>0</td>\n",
       "      <td>0</td>\n",
       "      <td>0</td>\n",
       "      <td>0</td>\n",
       "      <td>0</td>\n",
       "      <td>0</td>\n",
       "      <td>0</td>\n",
       "      <td>0</td>\n",
       "      <td>...</td>\n",
       "      <td>0</td>\n",
       "      <td>0</td>\n",
       "      <td>0</td>\n",
       "      <td>0</td>\n",
       "      <td>0</td>\n",
       "      <td>0</td>\n",
       "      <td>0</td>\n",
       "      <td>0</td>\n",
       "      <td>0</td>\n",
       "      <td>1</td>\n",
       "    </tr>\n",
       "    <tr>\n",
       "      <th>3</th>\n",
       "      <td>0</td>\n",
       "      <td>0</td>\n",
       "      <td>0</td>\n",
       "      <td>0</td>\n",
       "      <td>0</td>\n",
       "      <td>0</td>\n",
       "      <td>0</td>\n",
       "      <td>0</td>\n",
       "      <td>0</td>\n",
       "      <td>0</td>\n",
       "      <td>...</td>\n",
       "      <td>0</td>\n",
       "      <td>0</td>\n",
       "      <td>0</td>\n",
       "      <td>0</td>\n",
       "      <td>0</td>\n",
       "      <td>0</td>\n",
       "      <td>0</td>\n",
       "      <td>0</td>\n",
       "      <td>0</td>\n",
       "      <td>1</td>\n",
       "    </tr>\n",
       "    <tr>\n",
       "      <th>4</th>\n",
       "      <td>0</td>\n",
       "      <td>0</td>\n",
       "      <td>0</td>\n",
       "      <td>0</td>\n",
       "      <td>0</td>\n",
       "      <td>0</td>\n",
       "      <td>0</td>\n",
       "      <td>0</td>\n",
       "      <td>0</td>\n",
       "      <td>0</td>\n",
       "      <td>...</td>\n",
       "      <td>0</td>\n",
       "      <td>0</td>\n",
       "      <td>0</td>\n",
       "      <td>0</td>\n",
       "      <td>0</td>\n",
       "      <td>0</td>\n",
       "      <td>0</td>\n",
       "      <td>0</td>\n",
       "      <td>0</td>\n",
       "      <td>1</td>\n",
       "    </tr>\n",
       "  </tbody>\n",
       "</table>\n",
       "<p>5 rows × 331 columns</p>\n",
       "</div>"
      ],
      "text/plain": [
       "   android  android.app.cts.permission.TEST_GRANTED  \\\n",
       "0        0                                        0   \n",
       "1        0                                        0   \n",
       "2        0                                        0   \n",
       "3        0                                        0   \n",
       "4        0                                        0   \n",
       "\n",
       "   android.intent.category.MASTER_CLEAR.permission.C2D_MESSAGE  \\\n",
       "0                                                  0             \n",
       "1                                                  0             \n",
       "2                                                  0             \n",
       "3                                                  0             \n",
       "4                                                  0             \n",
       "\n",
       "   android.os.cts.permission.TEST_GRANTED  \\\n",
       "0                                       0   \n",
       "1                                       0   \n",
       "2                                       0   \n",
       "3                                       0   \n",
       "4                                       0   \n",
       "\n",
       "   android.permission.ACCESS_ALL_DOWNLOADS  \\\n",
       "0                                        0   \n",
       "1                                        0   \n",
       "2                                        0   \n",
       "3                                        0   \n",
       "4                                        0   \n",
       "\n",
       "   android.permission.ACCESS_ALL_EXTERNAL_STORAGE  \\\n",
       "0                                               0   \n",
       "1                                               0   \n",
       "2                                               0   \n",
       "3                                               0   \n",
       "4                                               0   \n",
       "\n",
       "   android.permission.ACCESS_BLUETOOTH_SHARE  \\\n",
       "0                                          0   \n",
       "1                                          0   \n",
       "2                                          0   \n",
       "3                                          0   \n",
       "4                                          0   \n",
       "\n",
       "   android.permission.ACCESS_CACHE_FILESYSTEM  \\\n",
       "0                                           0   \n",
       "1                                           0   \n",
       "2                                           0   \n",
       "3                                           0   \n",
       "4                                           0   \n",
       "\n",
       "   android.permission.ACCESS_CHECKIN_PROPERTIES  \\\n",
       "0                                             0   \n",
       "1                                             0   \n",
       "2                                             0   \n",
       "3                                             0   \n",
       "4                                             0   \n",
       "\n",
       "   android.permission.ACCESS_COARSE_LOCATION  ...  \\\n",
       "0                                          0  ...   \n",
       "1                                          0  ...   \n",
       "2                                          0  ...   \n",
       "3                                          0  ...   \n",
       "4                                          0  ...   \n",
       "\n",
       "   com.android.voicemail.permission.WRITE_VOICEMAIL  com.foo.mypermission  \\\n",
       "0                                                 0                     0   \n",
       "1                                                 0                     0   \n",
       "2                                                 0                     0   \n",
       "3                                                 0                     0   \n",
       "4                                                 0                     0   \n",
       "\n",
       "   com.foo.mypermission2  org.chromium.chrome.shell.permission.C2D_MESSAGE  \\\n",
       "0                      0                                                 0   \n",
       "1                      0                                                 0   \n",
       "2                      0                                                 0   \n",
       "3                      0                                                 0   \n",
       "4                      0                                                 0   \n",
       "\n",
       "   org.chromium.chrome.shell.permission.DEBUG  \\\n",
       "0                                           0   \n",
       "1                                           0   \n",
       "2                                           0   \n",
       "3                                           0   \n",
       "4                                           0   \n",
       "\n",
       "   org.chromium.chrome.shell.permission.SANDBOX  \\\n",
       "0                                             0   \n",
       "1                                             0   \n",
       "2                                             0   \n",
       "3                                             0   \n",
       "4                                             0   \n",
       "\n",
       "   org.chromium.chromecast.shell.permission.SANDBOX  \\\n",
       "0                                                 0   \n",
       "1                                                 0   \n",
       "2                                                 0   \n",
       "3                                                 0   \n",
       "4                                                 0   \n",
       "\n",
       "   org.chromium.content_shell.permission.SANDBOX  test_permission  type  \n",
       "0                                              0                0     1  \n",
       "1                                              0                0     1  \n",
       "2                                              0                0     1  \n",
       "3                                              0                0     1  \n",
       "4                                              0                0     1  \n",
       "\n",
       "[5 rows x 331 columns]"
      ]
     },
     "execution_count": 5,
     "metadata": {},
     "output_type": "execute_result"
    }
   ],
   "source": [
    "df.head()"
   ]
  },
  {
   "cell_type": "code",
   "execution_count": 6,
   "id": "7d578081",
   "metadata": {},
   "outputs": [
    {
     "data": {
      "text/plain": [
       "0    199\n",
       "1    199\n",
       "Name: type, dtype: int64"
      ]
     },
     "execution_count": 6,
     "metadata": {},
     "output_type": "execute_result"
    }
   ],
   "source": [
    "df['type'].value_counts()"
   ]
  },
  {
   "cell_type": "markdown",
   "id": "fb7742e3",
   "metadata": {},
   "source": [
    "We take a look at the most frequent permissions that both malicious and benign apps ask for to see if there is a pattern."
   ]
  },
  {
   "cell_type": "markdown",
   "id": "a6961ff9",
   "metadata": {},
   "source": [
    "*Malicious*"
   ]
  },
  {
   "cell_type": "code",
   "execution_count": 7,
   "id": "f722a061",
   "metadata": {},
   "outputs": [
    {
     "name": "stdout",
     "output_type": "stream",
     "text": [
      "type                                         199\n",
      "android.permission.INTERNET                  195\n",
      "android.permission.READ_PHONE_STATE          190\n",
      "android.permission.ACCESS_NETWORK_STATE      167\n",
      "android.permission.WRITE_EXTERNAL_STORAGE    136\n",
      "android.permission.ACCESS_WIFI_STATE         135\n",
      "android.permission.READ_SMS                  124\n",
      "android.permission.WRITE_SMS                 104\n",
      "android.permission.RECEIVE_BOOT_COMPLETED    102\n",
      "android.permission.ACCESS_COARSE_LOCATION     80\n",
      "dtype: int64\n"
     ]
    }
   ],
   "source": [
    "mal_ser = pd.Series.sort_values(df[df['type']==1].sum(axis=0), ascending=False)[:10] \n",
    "print(mal_ser)"
   ]
  },
  {
   "cell_type": "code",
   "execution_count": 8,
   "id": "29ef118a",
   "metadata": {},
   "outputs": [
    {
     "name": "stdout",
     "output_type": "stream",
     "text": [
      "android.permission.INTERNET                  195\n",
      "android.permission.READ_PHONE_STATE          190\n",
      "android.permission.ACCESS_NETWORK_STATE      167\n",
      "android.permission.WRITE_EXTERNAL_STORAGE    136\n",
      "android.permission.ACCESS_WIFI_STATE         135\n",
      "android.permission.READ_SMS                  124\n",
      "android.permission.WRITE_SMS                 104\n",
      "android.permission.RECEIVE_BOOT_COMPLETED    102\n",
      "android.permission.ACCESS_COARSE_LOCATION     80\n",
      "android.permission.CHANGE_WIFI_STATE          75\n",
      "dtype: int64\n"
     ]
    }
   ],
   "source": [
    "#we exclude [0] and take 1:11 as 0 corresponds to 'type' which is not a feature\n",
    "mal_ser = pd.Series.sort_values(df[df['type']==1].sum(axis=0), ascending=False)[1:11] \n",
    "print(mal_ser)"
   ]
  },
  {
   "cell_type": "markdown",
   "id": "45bd9382",
   "metadata": {},
   "source": [
    "*Benign*"
   ]
  },
  {
   "cell_type": "code",
   "execution_count": 9,
   "id": "07adf6b0",
   "metadata": {},
   "outputs": [
    {
     "data": {
      "text/plain": [
       "android.permission.INTERNET                  104\n",
       "android.permission.WRITE_EXTERNAL_STORAGE     76\n",
       "android.permission.ACCESS_NETWORK_STATE       62\n",
       "android.permission.WAKE_LOCK                  36\n",
       "android.permission.RECEIVE_BOOT_COMPLETED     30\n",
       "android.permission.ACCESS_WIFI_STATE          29\n",
       "android.permission.READ_PHONE_STATE           24\n",
       "android.permission.VIBRATE                    21\n",
       "android.permission.ACCESS_FINE_LOCATION       18\n",
       "android.permission.READ_EXTERNAL_STORAGE      15\n",
       "dtype: int64"
      ]
     },
     "execution_count": 9,
     "metadata": {},
     "output_type": "execute_result"
    }
   ],
   "source": [
    "ben_ser = pd.Series.sort_values(df[df['type']==0].sum(axis=0), ascending=False)[:10]\n",
    "ben_ser"
   ]
  },
  {
   "cell_type": "code",
   "execution_count": 10,
   "id": "e9d78f58",
   "metadata": {},
   "outputs": [
    {
     "data": {
      "text/plain": [
       "(['android.permission.INTERNET',\n",
       "  'android.permission.READ_PHONE_STATE',\n",
       "  'android.permission.ACCESS_NETWORK_STATE',\n",
       "  'android.permission.WRITE_EXTERNAL_STORAGE',\n",
       "  'android.permission.ACCESS_WIFI_STATE',\n",
       "  'android.permission.READ_SMS',\n",
       "  'android.permission.WRITE_SMS',\n",
       "  'android.permission.RECEIVE_BOOT_COMPLETED',\n",
       "  'android.permission.ACCESS_COARSE_LOCATION',\n",
       "  'android.permission.CHANGE_WIFI_STATE',\n",
       "  'android.permission.WAKE_LOCK',\n",
       "  'android.permission.VIBRATE',\n",
       "  'android.permission.ACCESS_FINE_LOCATION',\n",
       "  'android.permission.READ_EXTERNAL_STORAGE'],\n",
       " 14)"
      ]
     },
     "execution_count": 10,
     "metadata": {},
     "output_type": "execute_result"
    }
   ],
   "source": [
    "permissions = []\n",
    "\n",
    "for index in mal_ser.index:\n",
    "    if index not in permissions:\n",
    "        permissions.append(index)\n",
    "    \n",
    "for index in ben_ser.index:\n",
    "    if index not in permissions:\n",
    "        permissions.append(index)\n",
    "        \n",
    "permissions, len(permissions)"
   ]
  },
  {
   "cell_type": "markdown",
   "id": "88f82702",
   "metadata": {},
   "source": [
    "The source sorts both charts in descending order of permission frequency for each of the malicious and benign apps, and then sets `sharex=True`. This means that the original mislabels the *Benign Apps* x-axis. \n",
    "\n",
    "This is why we created `permissions` list above. We changed this to highlight the difference between access request of malicious and benign apps. We also set titles to make the visualisation more clear."
   ]
  },
  {
   "cell_type": "code",
   "execution_count": 11,
   "id": "ac5009aa",
   "metadata": {},
   "outputs": [
    {
     "data": {
      "text/plain": [
       "Text(0.5, 1.0, 'Malicious Apps')"
      ]
     },
     "execution_count": 11,
     "metadata": {},
     "output_type": "execute_result"
    },
    {
     "data": {
      "image/png": "[encoded data removed]",
      "text/plain": [
       "<Figure size 648x576 with 2 Axes>"
      ]
     },
     "metadata": {
      "needs_background": "light"
     },
     "output_type": "display_data"
    }
   ],
   "source": [
    "fig, axs =  plt.subplots(nrows=2,sharex=True, figsize=(9,8))\n",
    "\n",
    "pd.Series.sort_values(df[df.type==0].sum(axis=0), ascending=False)[permissions].plot.bar(ax=axs[0])\n",
    "axs[0].set_title('Benign Apps')\n",
    "pd.Series.sort_values(df[df.type==1].sum(axis=0), ascending=False)[permissions].plot.bar(ax=axs[1], color=\"red\")\n",
    "axs[1].set_title('Malicious Apps')"
   ]
  },
  {
   "cell_type": "markdown",
   "id": "eccc58b5",
   "metadata": {},
   "source": [
    "Alternatively, we plot the 10 most frequent permissions used by the each type of app side by side rather than on top of one another, this time setting `sharey=True`. "
   ]
  },
  {
   "cell_type": "code",
   "execution_count": 12,
   "id": "524dc272",
   "metadata": {},
   "outputs": [
    {
     "data": {
      "text/plain": [
       "Text(0.5, 1.0, 'Malicious Apps')"
      ]
     },
     "execution_count": 12,
     "metadata": {},
     "output_type": "execute_result"
    },
    {
     "data": {
      "image/png": "[encoded data removed]",
      "text/plain": [
       "<Figure size 864x288 with 2 Axes>"
      ]
     },
     "metadata": {
      "needs_background": "light"
     },
     "output_type": "display_data"
    }
   ],
   "source": [
    "fig, axs =  plt.subplots(ncols=2,sharey=True, figsize=(12,4))\n",
    "\n",
    "pd.Series.sort_values(df[df.type==0].sum(axis=0), ascending=False)[:10].plot.bar(ax=axs[0])\n",
    "axs[0].set_title('Benign Apps')\n",
    "pd.Series.sort_values(df[df.type==1].sum(axis=0), ascending=False)[1:11].plot.bar(ax=axs[1], color=\"red\")\n",
    "axs[1].set_title('Malicious Apps')"
   ]
  },
  {
   "cell_type": "markdown",
   "id": "60633994",
   "metadata": {},
   "source": [
    "Through the above two visualisations, we can make two observations:\n",
    "<p></p>\n",
    "<dl>\n",
    "    <dd><b>1.</b> Malicious apps prioritise using a different set of permissions, especially Read/Write SMS permissions.</dd>\n",
    "    <dd><b>2.</b> Malicious apps seem to ask for all permissions more frequently, for example internet access was the most frequently used permission between both type of apps yet 195 malicious apps used this access compared to 104 benign apps.</dd>\n",
    "</dl>"
   ]
  },
  {
   "cell_type": "markdown",
   "id": "c0618cc8",
   "metadata": {},
   "source": [
    "## Static Analysis Modelling"
   ]
  },
  {
   "cell_type": "markdown",
   "id": "02853d5a",
   "metadata": {},
   "source": [
    "Here we train and look at the performance of different classifier models on the dataset to predict which apps are malicious and which are benign. We use sklearn's `train_test_split` function to split 67% of the data into a training set and 33% into a test set as opposed to the source's 80:20 split. Our 'output' or 'target' feature `y` will be the `type` column of our dataset.\n",
    "\n",
    "We look at the accuracy measure of each classifier as well as the `classification report` which includes precision, recall, f1-score, and support. However, as our data is perfectly balanced with 50% malicious and 50% benign apps, we believe that it is sufficient to use accuracy as the main performance metric of each model."
   ]
  },
  {
   "cell_type": "code",
   "execution_count": 13,
   "id": "154b4ddc",
   "metadata": {},
   "outputs": [],
   "source": [
    "X_train, X_test, y_train, y_test = train_test_split(df.iloc[:, 1:330], df['type'], test_size=0.33, random_state=42)"
   ]
  },
  {
   "cell_type": "markdown",
   "id": "f9f6e160",
   "metadata": {},
   "source": [
    "#### Naive Bayes"
   ]
  },
  {
   "cell_type": "code",
   "execution_count": 14,
   "id": "d212450d",
   "metadata": {},
   "outputs": [],
   "source": [
    "target_names = ['type 0','type 1']"
   ]
  },
  {
   "cell_type": "code",
   "execution_count": 15,
   "id": "8b13947a",
   "metadata": {},
   "outputs": [
    {
     "name": "stdout",
     "output_type": "stream",
     "text": [
      "naive_bayes\n",
      "0.7651515151515151\n",
      "              precision    recall  f1-score   support\n",
      "\n",
      "      type 0       0.90      0.69      0.78        81\n",
      "      type 1       0.64      0.88      0.74        51\n",
      "\n",
      "    accuracy                           0.77       132\n",
      "   macro avg       0.77      0.79      0.76       132\n",
      "weighted avg       0.80      0.77      0.77       132\n",
      "\n"
     ]
    }
   ],
   "source": [
    "# Naive Bayes algorithm\n",
    "gnb = GaussianNB()\n",
    "gnb.fit(X_train, y_train)\n",
    "\n",
    "# pred\n",
    "pred = gnb.predict(X_test)\n",
    "\n",
    "# accuracy\n",
    "accuracy = accuracy_score(pred, y_test)\n",
    "print(\"naive_bayes\")\n",
    "print(accuracy)\n",
    "print(classification_report(pred, y_test, labels=None, target_names = target_names))"
   ]
  },
  {
   "cell_type": "markdown",
   "id": "bd156b9f",
   "metadata": {},
   "source": [
    "The Naive Bayes classifier only gives us an accuracy of 76.5%. <br></br>\n",
    "(With an 80:20 train:test split the source gets approximately 83.8% accuracy)"
   ]
  },
  {
   "cell_type": "markdown",
   "id": "db417ed7",
   "metadata": {},
   "source": [
    "#### KNN"
   ]
  },
  {
   "cell_type": "code",
   "execution_count": 16,
   "id": "dfc0b442",
   "metadata": {},
   "outputs": [
    {
     "name": "stdout",
     "output_type": "stream",
     "text": [
      "kneighbors 3\n",
      "0.8636363636363636\n",
      "              precision    recall  f1-score   support\n",
      "\n",
      "      type 0       0.94      0.81      0.87        72\n",
      "      type 1       0.80      0.93      0.86        60\n",
      "\n",
      "    accuracy                           0.86       132\n",
      "   macro avg       0.87      0.87      0.86       132\n",
      "weighted avg       0.87      0.86      0.86       132\n",
      "\n",
      "\n",
      "kneighbors 6\n",
      "0.8712121212121212\n",
      "              precision    recall  f1-score   support\n",
      "\n",
      "      type 0       0.95      0.81      0.87        73\n",
      "      type 1       0.80      0.95      0.87        59\n",
      "\n",
      "    accuracy                           0.87       132\n",
      "   macro avg       0.88      0.88      0.87       132\n",
      "weighted avg       0.88      0.87      0.87       132\n",
      "\n",
      "\n",
      "kneighbors 9\n",
      "0.8712121212121212\n",
      "              precision    recall  f1-score   support\n",
      "\n",
      "      type 0       0.95      0.81      0.87        73\n",
      "      type 1       0.80      0.95      0.87        59\n",
      "\n",
      "    accuracy                           0.87       132\n",
      "   macro avg       0.88      0.88      0.87       132\n",
      "weighted avg       0.88      0.87      0.87       132\n",
      "\n",
      "\n",
      "kneighbors 12\n",
      "0.8712121212121212\n",
      "              precision    recall  f1-score   support\n",
      "\n",
      "      type 0       0.95      0.81      0.87        73\n",
      "      type 1       0.80      0.95      0.87        59\n",
      "\n",
      "    accuracy                           0.87       132\n",
      "   macro avg       0.88      0.88      0.87       132\n",
      "weighted avg       0.88      0.87      0.87       132\n",
      "\n",
      "\n"
     ]
    }
   ],
   "source": [
    "# knn algorithm\n",
    "\n",
    "for i in range(3,13,3): #we run knn for k=3,6,9,12 to see which returns the better result\n",
    "    \n",
    "    neigh = KNeighborsClassifier(n_neighbors=i)\n",
    "    neigh.fit(X_train, y_train)\n",
    "    pred = neigh.predict(X_test)\n",
    "    # accuracy\n",
    "    accuracy = accuracy_score(pred, y_test)\n",
    "    print(\"kneighbors {}\".format(i))\n",
    "    print(accuracy)\n",
    "    print(classification_report(pred, y_test,labels=None, target_names = target_names))\n",
    "    print(\"\")"
   ]
  },
  {
   "cell_type": "markdown",
   "id": "5a71ef8d",
   "metadata": {},
   "source": [
    "We seem to get the best KNN results when we set k=6,9,12 all of which yield roughly 87.1% accuracy.<br></br>\n",
    "(With an 80:20 train:test split the source gets the best result for k=3 with approximately 88.8% accuracy)"
   ]
  },
  {
   "cell_type": "markdown",
   "id": "95a98d83",
   "metadata": {},
   "source": [
    "#### Decision Tree"
   ]
  },
  {
   "cell_type": "code",
   "execution_count": 18,
   "id": "c76904b8",
   "metadata": {},
   "outputs": [
    {
     "name": "stdout",
     "output_type": "stream",
     "text": [
      "DecisionTreeClassifier()\n",
      "0.8863636363636364\n",
      "              precision    recall  f1-score   support\n",
      "\n",
      "      type 0       0.97      0.82      0.89        73\n",
      "      type 1       0.81      0.97      0.88        59\n",
      "\n",
      "    accuracy                           0.89       132\n",
      "   macro avg       0.89      0.89      0.89       132\n",
      "weighted avg       0.90      0.89      0.89       132\n",
      "\n"
     ]
    }
   ],
   "source": [
    "clf = tree.DecisionTreeClassifier()\n",
    "clf.fit(X_train, y_train)\n",
    "\n",
    "pred = clf.predict(X_test)\n",
    "# accuracy\n",
    "accuracy = accuracy_score(pred, y_test)\n",
    "print(clf)\n",
    "print(accuracy)\n",
    "print(classification_report(pred, y_test, labels=None, target_names = target_names))"
   ]
  },
  {
   "cell_type": "markdown",
   "id": "bf6eff9a",
   "metadata": {},
   "source": [
    "Here we get the highest accuracy out of our 3 models when using a Decision Tree classifier which yields an accuracy of approximately 89.4%. <br></br>\n",
    "(With an 80:20 train:test split the source gets 95% accuracy)"
   ]
  },
  {
   "cell_type": "markdown",
   "id": "1856df1e",
   "metadata": {},
   "source": [
    "Overall, we get the same performance heirarchy as the source between the 3 models when changing our train/test split though we end up achieving lower accuracy with our split selection. This could be due to the comparatively small size (398 rows/obersvations) that we have in this dataset where taking 67% for training is not enough to attain the higher levels of accuracy.\n"
   ]
  },
  {
   "cell_type": "markdown",
   "id": "d36c4a1b",
   "metadata": {},
   "source": [
    "## Dynamic Analysis"
   ]
  },
  {
   "cell_type": "markdown",
   "id": "535f468a",
   "metadata": {},
   "source": [
    "For this approach, we used a set of pcap files from the DroidCollector project integrated by 4705 benign and 3141 malicious applications. All of the files were processed by our feature extractor script, the idea of this analysis is to answer the next question, according to the static analysis previously seen a lot of applications use a network connection, in other words, they are trying to communicate or transmit information, so.. is it possible to distinguish between malware and benign application using network traffic?"
   ]
  },
  {
   "cell_type": "code",
   "execution_count": 19,
   "id": "23db562d",
   "metadata": {},
   "outputs": [],
   "source": [
    "data = pd.read_csv('../data/android_traffic.csv',sep=';')"
   ]
  },
  {
   "cell_type": "code",
   "execution_count": 20,
   "id": "0035c266",
   "metadata": {},
   "outputs": [
    {
     "data": {
      "text/html": [
       "<div>\n",
       "<style scoped>\n",
       "    .dataframe tbody tr th:only-of-type {\n",
       "        vertical-align: middle;\n",
       "    }\n",
       "\n",
       "    .dataframe tbody tr th {\n",
       "        vertical-align: top;\n",
       "    }\n",
       "\n",
       "    .dataframe thead th {\n",
       "        text-align: right;\n",
       "    }\n",
       "</style>\n",
       "<table border=\"1\" class=\"dataframe\">\n",
       "  <thead>\n",
       "    <tr style=\"text-align: right;\">\n",
       "      <th></th>\n",
       "      <th>name</th>\n",
       "      <th>tcp_packets</th>\n",
       "      <th>dist_port_tcp</th>\n",
       "      <th>external_ips</th>\n",
       "      <th>vulume_bytes</th>\n",
       "      <th>udp_packets</th>\n",
       "      <th>tcp_urg_packet</th>\n",
       "      <th>source_app_packets</th>\n",
       "      <th>remote_app_packets</th>\n",
       "      <th>source_app_bytes</th>\n",
       "      <th>remote_app_bytes</th>\n",
       "      <th>duracion</th>\n",
       "      <th>avg_local_pkt_rate</th>\n",
       "      <th>avg_remote_pkt_rate</th>\n",
       "      <th>source_app_packets.1</th>\n",
       "      <th>dns_query_times</th>\n",
       "      <th>type</th>\n",
       "    </tr>\n",
       "  </thead>\n",
       "  <tbody>\n",
       "    <tr>\n",
       "      <th>0</th>\n",
       "      <td>AntiVirus</td>\n",
       "      <td>36</td>\n",
       "      <td>6</td>\n",
       "      <td>3</td>\n",
       "      <td>3911</td>\n",
       "      <td>0</td>\n",
       "      <td>0</td>\n",
       "      <td>39</td>\n",
       "      <td>33</td>\n",
       "      <td>5100</td>\n",
       "      <td>4140</td>\n",
       "      <td>NaN</td>\n",
       "      <td>NaN</td>\n",
       "      <td>NaN</td>\n",
       "      <td>39</td>\n",
       "      <td>3</td>\n",
       "      <td>benign</td>\n",
       "    </tr>\n",
       "    <tr>\n",
       "      <th>1</th>\n",
       "      <td>AntiVirus</td>\n",
       "      <td>117</td>\n",
       "      <td>0</td>\n",
       "      <td>9</td>\n",
       "      <td>23514</td>\n",
       "      <td>0</td>\n",
       "      <td>0</td>\n",
       "      <td>128</td>\n",
       "      <td>107</td>\n",
       "      <td>26248</td>\n",
       "      <td>24358</td>\n",
       "      <td>NaN</td>\n",
       "      <td>NaN</td>\n",
       "      <td>NaN</td>\n",
       "      <td>128</td>\n",
       "      <td>11</td>\n",
       "      <td>benign</td>\n",
       "    </tr>\n",
       "    <tr>\n",
       "      <th>2</th>\n",
       "      <td>AntiVirus</td>\n",
       "      <td>196</td>\n",
       "      <td>0</td>\n",
       "      <td>6</td>\n",
       "      <td>24151</td>\n",
       "      <td>0</td>\n",
       "      <td>0</td>\n",
       "      <td>205</td>\n",
       "      <td>214</td>\n",
       "      <td>163887</td>\n",
       "      <td>24867</td>\n",
       "      <td>NaN</td>\n",
       "      <td>NaN</td>\n",
       "      <td>NaN</td>\n",
       "      <td>205</td>\n",
       "      <td>9</td>\n",
       "      <td>benign</td>\n",
       "    </tr>\n",
       "    <tr>\n",
       "      <th>3</th>\n",
       "      <td>AntiVirus</td>\n",
       "      <td>6</td>\n",
       "      <td>0</td>\n",
       "      <td>1</td>\n",
       "      <td>889</td>\n",
       "      <td>0</td>\n",
       "      <td>0</td>\n",
       "      <td>7</td>\n",
       "      <td>6</td>\n",
       "      <td>819</td>\n",
       "      <td>975</td>\n",
       "      <td>NaN</td>\n",
       "      <td>NaN</td>\n",
       "      <td>NaN</td>\n",
       "      <td>7</td>\n",
       "      <td>1</td>\n",
       "      <td>benign</td>\n",
       "    </tr>\n",
       "    <tr>\n",
       "      <th>4</th>\n",
       "      <td>AntiVirus</td>\n",
       "      <td>6</td>\n",
       "      <td>0</td>\n",
       "      <td>1</td>\n",
       "      <td>882</td>\n",
       "      <td>0</td>\n",
       "      <td>0</td>\n",
       "      <td>7</td>\n",
       "      <td>6</td>\n",
       "      <td>819</td>\n",
       "      <td>968</td>\n",
       "      <td>NaN</td>\n",
       "      <td>NaN</td>\n",
       "      <td>NaN</td>\n",
       "      <td>7</td>\n",
       "      <td>1</td>\n",
       "      <td>benign</td>\n",
       "    </tr>\n",
       "  </tbody>\n",
       "</table>\n",
       "</div>"
      ],
      "text/plain": [
       "        name  tcp_packets  dist_port_tcp  external_ips  vulume_bytes  \\\n",
       "0  AntiVirus           36              6             3          3911   \n",
       "1  AntiVirus          117              0             9         23514   \n",
       "2  AntiVirus          196              0             6         24151   \n",
       "3  AntiVirus            6              0             1           889   \n",
       "4  AntiVirus            6              0             1           882   \n",
       "\n",
       "   udp_packets  tcp_urg_packet  source_app_packets  remote_app_packets  \\\n",
       "0            0               0                  39                  33   \n",
       "1            0               0                 128                 107   \n",
       "2            0               0                 205                 214   \n",
       "3            0               0                   7                   6   \n",
       "4            0               0                   7                   6   \n",
       "\n",
       "   source_app_bytes  remote_app_bytes  duracion  avg_local_pkt_rate  \\\n",
       "0              5100              4140       NaN                 NaN   \n",
       "1             26248             24358       NaN                 NaN   \n",
       "2            163887             24867       NaN                 NaN   \n",
       "3               819               975       NaN                 NaN   \n",
       "4               819               968       NaN                 NaN   \n",
       "\n",
       "   avg_remote_pkt_rate  source_app_packets.1  dns_query_times    type  \n",
       "0                  NaN                    39                3  benign  \n",
       "1                  NaN                   128               11  benign  \n",
       "2                  NaN                   205                9  benign  \n",
       "3                  NaN                     7                1  benign  \n",
       "4                  NaN                     7                1  benign  "
      ]
     },
     "execution_count": 20,
     "metadata": {},
     "output_type": "execute_result"
    }
   ],
   "source": [
    "data.head()"
   ]
  },
  {
   "cell_type": "code",
   "execution_count": 134,
   "id": "1b138b68",
   "metadata": {},
   "outputs": [
    {
     "data": {
      "text/plain": [
       "Index(['name', 'tcp_packets', 'dist_port_tcp', 'external_ips', 'vulume_bytes',\n",
       "       'udp_packets', 'tcp_urg_packet', 'source_app_packets',\n",
       "       'remote_app_packets', 'source_app_bytes', 'remote_app_bytes',\n",
       "       'duracion', 'avg_local_pkt_rate', 'avg_remote_pkt_rate',\n",
       "       'source_app_packets.1', 'dns_query_times', 'type'],\n",
       "      dtype='object')"
      ]
     },
     "execution_count": 134,
     "metadata": {},
     "output_type": "execute_result"
    }
   ],
   "source": [
    "data.columns"
   ]
  },
  {
   "cell_type": "markdown",
   "id": "596e59b8",
   "metadata": {},
   "source": [
    "Here we change some of the column names to clarify what they represent as there were some misspellings and/or mistranslations made by the original source."
   ]
  },
  {
   "cell_type": "code",
   "execution_count": 135,
   "id": "be01ce84",
   "metadata": {},
   "outputs": [
    {
     "data": {
      "text/html": [
       "<div>\n",
       "<style scoped>\n",
       "    .dataframe tbody tr th:only-of-type {\n",
       "        vertical-align: middle;\n",
       "    }\n",
       "\n",
       "    .dataframe tbody tr th {\n",
       "        vertical-align: top;\n",
       "    }\n",
       "\n",
       "    .dataframe thead th {\n",
       "        text-align: right;\n",
       "    }\n",
       "</style>\n",
       "<table border=\"1\" class=\"dataframe\">\n",
       "  <thead>\n",
       "    <tr style=\"text-align: right;\">\n",
       "      <th></th>\n",
       "      <th>app_type</th>\n",
       "      <th>tcp_packets</th>\n",
       "      <th>dist_port_tcp</th>\n",
       "      <th>external_ips</th>\n",
       "      <th>volume_bytes</th>\n",
       "      <th>udp_packets</th>\n",
       "      <th>tcp_urg_packet</th>\n",
       "      <th>source_app_packets</th>\n",
       "      <th>remote_app_packets</th>\n",
       "      <th>source_app_bytes</th>\n",
       "      <th>remote_app_bytes</th>\n",
       "      <th>duration</th>\n",
       "      <th>avg_local_pkt_rate</th>\n",
       "      <th>avg_remote_pkt_rate</th>\n",
       "      <th>source_app_packets.1</th>\n",
       "      <th>dns_query_times</th>\n",
       "      <th>type</th>\n",
       "    </tr>\n",
       "  </thead>\n",
       "  <tbody>\n",
       "    <tr>\n",
       "      <th>0</th>\n",
       "      <td>AntiVirus</td>\n",
       "      <td>36</td>\n",
       "      <td>6</td>\n",
       "      <td>3</td>\n",
       "      <td>3911</td>\n",
       "      <td>0</td>\n",
       "      <td>0</td>\n",
       "      <td>39</td>\n",
       "      <td>33</td>\n",
       "      <td>5100</td>\n",
       "      <td>4140</td>\n",
       "      <td>NaN</td>\n",
       "      <td>NaN</td>\n",
       "      <td>NaN</td>\n",
       "      <td>39</td>\n",
       "      <td>3</td>\n",
       "      <td>benign</td>\n",
       "    </tr>\n",
       "    <tr>\n",
       "      <th>1</th>\n",
       "      <td>AntiVirus</td>\n",
       "      <td>117</td>\n",
       "      <td>0</td>\n",
       "      <td>9</td>\n",
       "      <td>23514</td>\n",
       "      <td>0</td>\n",
       "      <td>0</td>\n",
       "      <td>128</td>\n",
       "      <td>107</td>\n",
       "      <td>26248</td>\n",
       "      <td>24358</td>\n",
       "      <td>NaN</td>\n",
       "      <td>NaN</td>\n",
       "      <td>NaN</td>\n",
       "      <td>128</td>\n",
       "      <td>11</td>\n",
       "      <td>benign</td>\n",
       "    </tr>\n",
       "    <tr>\n",
       "      <th>2</th>\n",
       "      <td>AntiVirus</td>\n",
       "      <td>196</td>\n",
       "      <td>0</td>\n",
       "      <td>6</td>\n",
       "      <td>24151</td>\n",
       "      <td>0</td>\n",
       "      <td>0</td>\n",
       "      <td>205</td>\n",
       "      <td>214</td>\n",
       "      <td>163887</td>\n",
       "      <td>24867</td>\n",
       "      <td>NaN</td>\n",
       "      <td>NaN</td>\n",
       "      <td>NaN</td>\n",
       "      <td>205</td>\n",
       "      <td>9</td>\n",
       "      <td>benign</td>\n",
       "    </tr>\n",
       "    <tr>\n",
       "      <th>3</th>\n",
       "      <td>AntiVirus</td>\n",
       "      <td>6</td>\n",
       "      <td>0</td>\n",
       "      <td>1</td>\n",
       "      <td>889</td>\n",
       "      <td>0</td>\n",
       "      <td>0</td>\n",
       "      <td>7</td>\n",
       "      <td>6</td>\n",
       "      <td>819</td>\n",
       "      <td>975</td>\n",
       "      <td>NaN</td>\n",
       "      <td>NaN</td>\n",
       "      <td>NaN</td>\n",
       "      <td>7</td>\n",
       "      <td>1</td>\n",
       "      <td>benign</td>\n",
       "    </tr>\n",
       "    <tr>\n",
       "      <th>4</th>\n",
       "      <td>AntiVirus</td>\n",
       "      <td>6</td>\n",
       "      <td>0</td>\n",
       "      <td>1</td>\n",
       "      <td>882</td>\n",
       "      <td>0</td>\n",
       "      <td>0</td>\n",
       "      <td>7</td>\n",
       "      <td>6</td>\n",
       "      <td>819</td>\n",
       "      <td>968</td>\n",
       "      <td>NaN</td>\n",
       "      <td>NaN</td>\n",
       "      <td>NaN</td>\n",
       "      <td>7</td>\n",
       "      <td>1</td>\n",
       "      <td>benign</td>\n",
       "    </tr>\n",
       "  </tbody>\n",
       "</table>\n",
       "</div>"
      ],
      "text/plain": [
       "    app_type  tcp_packets  dist_port_tcp  external_ips  volume_bytes  \\\n",
       "0  AntiVirus           36              6             3          3911   \n",
       "1  AntiVirus          117              0             9         23514   \n",
       "2  AntiVirus          196              0             6         24151   \n",
       "3  AntiVirus            6              0             1           889   \n",
       "4  AntiVirus            6              0             1           882   \n",
       "\n",
       "   udp_packets  tcp_urg_packet  source_app_packets  remote_app_packets  \\\n",
       "0            0               0                  39                  33   \n",
       "1            0               0                 128                 107   \n",
       "2            0               0                 205                 214   \n",
       "3            0               0                   7                   6   \n",
       "4            0               0                   7                   6   \n",
       "\n",
       "   source_app_bytes  remote_app_bytes  duration  avg_local_pkt_rate  \\\n",
       "0              5100              4140       NaN                 NaN   \n",
       "1             26248             24358       NaN                 NaN   \n",
       "2            163887             24867       NaN                 NaN   \n",
       "3               819               975       NaN                 NaN   \n",
       "4               819               968       NaN                 NaN   \n",
       "\n",
       "   avg_remote_pkt_rate  source_app_packets.1  dns_query_times    type  \n",
       "0                  NaN                    39                3  benign  \n",
       "1                  NaN                   128               11  benign  \n",
       "2                  NaN                   205                9  benign  \n",
       "3                  NaN                     7                1  benign  \n",
       "4                  NaN                     7                1  benign  "
      ]
     },
     "execution_count": 135,
     "metadata": {},
     "output_type": "execute_result"
    }
   ],
   "source": [
    "data.rename(columns={'name':'app_type','vulume_bytes':'volume_bytes','duracion':'duration'},inplace=True)\n",
    "data.head()"
   ]
  },
  {
   "cell_type": "code",
   "execution_count": 136,
   "id": "fd84dd8c",
   "metadata": {},
   "outputs": [
    {
     "data": {
      "text/plain": [
       "(7845, 17)"
      ]
     },
     "execution_count": 136,
     "metadata": {},
     "output_type": "execute_result"
    }
   ],
   "source": [
    "data.shape"
   ]
  },
  {
   "cell_type": "code",
   "execution_count": 137,
   "id": "db90c22c",
   "metadata": {},
   "outputs": [
    {
     "data": {
      "text/plain": [
       "benign       4704\n",
       "malicious    3141\n",
       "Name: type, dtype: int64"
      ]
     },
     "execution_count": 137,
     "metadata": {},
     "output_type": "execute_result"
    }
   ],
   "source": [
    "data['type'].value_counts()"
   ]
  },
  {
   "cell_type": "markdown",
   "id": "1662b859",
   "metadata": {},
   "source": [
    "This time we do not have a perfect 50/50 data split and so we may need to look at measures other than just the accuracy of our models going forward."
   ]
  },
  {
   "cell_type": "markdown",
   "id": "5c5fb575",
   "metadata": {},
   "source": [
    "## Cleaning"
   ]
  },
  {
   "cell_type": "markdown",
   "id": "beeb88c3",
   "metadata": {},
   "source": [
    "As the original author used DroidCollector and then their own scrip to extract/scrape the network traffic for these apps, some of the data needs some cleaning and that is addressed here."
   ]
  },
  {
   "cell_type": "code",
   "execution_count": 138,
   "id": "fabd2de3",
   "metadata": {},
   "outputs": [
    {
     "data": {
      "text/plain": [
       "app_type                   0\n",
       "tcp_packets                0\n",
       "dist_port_tcp              0\n",
       "external_ips               0\n",
       "volume_bytes               0\n",
       "udp_packets                0\n",
       "tcp_urg_packet             0\n",
       "source_app_packets         0\n",
       "remote_app_packets         0\n",
       "source_app_bytes           0\n",
       "remote_app_bytes           0\n",
       "duration                7845\n",
       "avg_local_pkt_rate      7845\n",
       "avg_remote_pkt_rate     7845\n",
       "source_app_packets.1       0\n",
       "dns_query_times            0\n",
       "type                       0\n",
       "dtype: int64"
      ]
     },
     "execution_count": 138,
     "metadata": {},
     "output_type": "execute_result"
    }
   ],
   "source": [
    "data.isna().sum()"
   ]
  },
  {
   "cell_type": "markdown",
   "id": "913e2211",
   "metadata": {},
   "source": [
    "We have 3 columns where we have absolutely no data and so we can't make use of them. We just drop these columns as they are effectively redundant."
   ]
  },
  {
   "cell_type": "code",
   "execution_count": 139,
   "id": "d2467d84",
   "metadata": {},
   "outputs": [],
   "source": [
    "data = data.drop(['duration','avg_local_pkt_rate','avg_remote_pkt_rate'], axis=1).copy()"
   ]
  },
  {
   "cell_type": "code",
   "execution_count": 140,
   "id": "8e267806",
   "metadata": {},
   "outputs": [
    {
     "data": {
      "text/html": [
       "<div>\n",
       "<style scoped>\n",
       "    .dataframe tbody tr th:only-of-type {\n",
       "        vertical-align: middle;\n",
       "    }\n",
       "\n",
       "    .dataframe tbody tr th {\n",
       "        vertical-align: top;\n",
       "    }\n",
       "\n",
       "    .dataframe thead th {\n",
       "        text-align: right;\n",
       "    }\n",
       "</style>\n",
       "<table border=\"1\" class=\"dataframe\">\n",
       "  <thead>\n",
       "    <tr style=\"text-align: right;\">\n",
       "      <th></th>\n",
       "      <th>tcp_packets</th>\n",
       "      <th>dist_port_tcp</th>\n",
       "      <th>external_ips</th>\n",
       "      <th>volume_bytes</th>\n",
       "      <th>udp_packets</th>\n",
       "      <th>tcp_urg_packet</th>\n",
       "      <th>source_app_packets</th>\n",
       "      <th>remote_app_packets</th>\n",
       "      <th>source_app_bytes</th>\n",
       "      <th>remote_app_bytes</th>\n",
       "      <th>source_app_packets.1</th>\n",
       "      <th>dns_query_times</th>\n",
       "    </tr>\n",
       "  </thead>\n",
       "  <tbody>\n",
       "    <tr>\n",
       "      <th>count</th>\n",
       "      <td>7845.000000</td>\n",
       "      <td>7845.000000</td>\n",
       "      <td>7845.000000</td>\n",
       "      <td>7.845000e+03</td>\n",
       "      <td>7845.000000</td>\n",
       "      <td>7845.000000</td>\n",
       "      <td>7845.000000</td>\n",
       "      <td>7845.000000</td>\n",
       "      <td>7.845000e+03</td>\n",
       "      <td>7.845000e+03</td>\n",
       "      <td>7845.000000</td>\n",
       "      <td>7845.000000</td>\n",
       "    </tr>\n",
       "    <tr>\n",
       "      <th>mean</th>\n",
       "      <td>147.578713</td>\n",
       "      <td>7.738177</td>\n",
       "      <td>2.748502</td>\n",
       "      <td>1.654375e+04</td>\n",
       "      <td>0.056724</td>\n",
       "      <td>0.000255</td>\n",
       "      <td>152.911918</td>\n",
       "      <td>194.706310</td>\n",
       "      <td>2.024967e+05</td>\n",
       "      <td>1.692260e+04</td>\n",
       "      <td>152.911918</td>\n",
       "      <td>4.898917</td>\n",
       "    </tr>\n",
       "    <tr>\n",
       "      <th>std</th>\n",
       "      <td>777.920084</td>\n",
       "      <td>51.654222</td>\n",
       "      <td>2.923005</td>\n",
       "      <td>8.225650e+04</td>\n",
       "      <td>1.394046</td>\n",
       "      <td>0.015966</td>\n",
       "      <td>779.034618</td>\n",
       "      <td>1068.112696</td>\n",
       "      <td>1.401076e+06</td>\n",
       "      <td>8.238182e+04</td>\n",
       "      <td>779.034618</td>\n",
       "      <td>18.900478</td>\n",
       "    </tr>\n",
       "    <tr>\n",
       "      <th>min</th>\n",
       "      <td>0.000000</td>\n",
       "      <td>0.000000</td>\n",
       "      <td>0.000000</td>\n",
       "      <td>0.000000e+00</td>\n",
       "      <td>0.000000</td>\n",
       "      <td>0.000000</td>\n",
       "      <td>1.000000</td>\n",
       "      <td>0.000000</td>\n",
       "      <td>0.000000e+00</td>\n",
       "      <td>6.900000e+01</td>\n",
       "      <td>1.000000</td>\n",
       "      <td>0.000000</td>\n",
       "    </tr>\n",
       "    <tr>\n",
       "      <th>25%</th>\n",
       "      <td>6.000000</td>\n",
       "      <td>0.000000</td>\n",
       "      <td>1.000000</td>\n",
       "      <td>8.880000e+02</td>\n",
       "      <td>0.000000</td>\n",
       "      <td>0.000000</td>\n",
       "      <td>7.000000</td>\n",
       "      <td>7.000000</td>\n",
       "      <td>9.340000e+02</td>\n",
       "      <td>1.046000e+03</td>\n",
       "      <td>7.000000</td>\n",
       "      <td>1.000000</td>\n",
       "    </tr>\n",
       "    <tr>\n",
       "      <th>50%</th>\n",
       "      <td>25.000000</td>\n",
       "      <td>0.000000</td>\n",
       "      <td>2.000000</td>\n",
       "      <td>3.509000e+03</td>\n",
       "      <td>0.000000</td>\n",
       "      <td>0.000000</td>\n",
       "      <td>30.000000</td>\n",
       "      <td>24.000000</td>\n",
       "      <td>4.090000e+03</td>\n",
       "      <td>3.803000e+03</td>\n",
       "      <td>30.000000</td>\n",
       "      <td>3.000000</td>\n",
       "    </tr>\n",
       "    <tr>\n",
       "      <th>75%</th>\n",
       "      <td>93.000000</td>\n",
       "      <td>0.000000</td>\n",
       "      <td>4.000000</td>\n",
       "      <td>1.218900e+04</td>\n",
       "      <td>0.000000</td>\n",
       "      <td>0.000000</td>\n",
       "      <td>98.000000</td>\n",
       "      <td>92.000000</td>\n",
       "      <td>2.624400e+04</td>\n",
       "      <td>1.261000e+04</td>\n",
       "      <td>98.000000</td>\n",
       "      <td>5.000000</td>\n",
       "    </tr>\n",
       "    <tr>\n",
       "      <th>max</th>\n",
       "      <td>37143.000000</td>\n",
       "      <td>2167.000000</td>\n",
       "      <td>43.000000</td>\n",
       "      <td>4.226790e+06</td>\n",
       "      <td>65.000000</td>\n",
       "      <td>1.000000</td>\n",
       "      <td>37150.000000</td>\n",
       "      <td>45928.000000</td>\n",
       "      <td>6.823516e+07</td>\n",
       "      <td>4.227323e+06</td>\n",
       "      <td>37150.000000</td>\n",
       "      <td>913.000000</td>\n",
       "    </tr>\n",
       "  </tbody>\n",
       "</table>\n",
       "</div>"
      ],
      "text/plain": [
       "        tcp_packets  dist_port_tcp  external_ips  volume_bytes  udp_packets  \\\n",
       "count   7845.000000    7845.000000   7845.000000  7.845000e+03  7845.000000   \n",
       "mean     147.578713       7.738177      2.748502  1.654375e+04     0.056724   \n",
       "std      777.920084      51.654222      2.923005  8.225650e+04     1.394046   \n",
       "min        0.000000       0.000000      0.000000  0.000000e+00     0.000000   \n",
       "25%        6.000000       0.000000      1.000000  8.880000e+02     0.000000   \n",
       "50%       25.000000       0.000000      2.000000  3.509000e+03     0.000000   \n",
       "75%       93.000000       0.000000      4.000000  1.218900e+04     0.000000   \n",
       "max    37143.000000    2167.000000     43.000000  4.226790e+06    65.000000   \n",
       "\n",
       "       tcp_urg_packet  source_app_packets  remote_app_packets  \\\n",
       "count     7845.000000         7845.000000         7845.000000   \n",
       "mean         0.000255          152.911918          194.706310   \n",
       "std          0.015966          779.034618         1068.112696   \n",
       "min          0.000000            1.000000            0.000000   \n",
       "25%          0.000000            7.000000            7.000000   \n",
       "50%          0.000000           30.000000           24.000000   \n",
       "75%          0.000000           98.000000           92.000000   \n",
       "max          1.000000        37150.000000        45928.000000   \n",
       "\n",
       "       source_app_bytes  remote_app_bytes  source_app_packets.1  \\\n",
       "count      7.845000e+03      7.845000e+03           7845.000000   \n",
       "mean       2.024967e+05      1.692260e+04            152.911918   \n",
       "std        1.401076e+06      8.238182e+04            779.034618   \n",
       "min        0.000000e+00      6.900000e+01              1.000000   \n",
       "25%        9.340000e+02      1.046000e+03              7.000000   \n",
       "50%        4.090000e+03      3.803000e+03             30.000000   \n",
       "75%        2.624400e+04      1.261000e+04             98.000000   \n",
       "max        6.823516e+07      4.227323e+06          37150.000000   \n",
       "\n",
       "       dns_query_times  \n",
       "count      7845.000000  \n",
       "mean          4.898917  \n",
       "std          18.900478  \n",
       "min           0.000000  \n",
       "25%           1.000000  \n",
       "50%           3.000000  \n",
       "75%           5.000000  \n",
       "max         913.000000  "
      ]
     },
     "execution_count": 140,
     "metadata": {},
     "output_type": "execute_result"
    }
   ],
   "source": [
    "data.describe()"
   ]
  },
  {
   "cell_type": "markdown",
   "id": "d2628999",
   "metadata": {},
   "source": [
    "Here, the original author notes that the tcp_urg_packet column stands out and plots it to explore further. We do the same but we further comment on this and explore some other columns as well."
   ]
  },
  {
   "cell_type": "code",
   "execution_count": 141,
   "id": "865819bd",
   "metadata": {},
   "outputs": [
    {
     "name": "stderr",
     "output_type": "stream",
     "text": [
      "C:\\ProgramData\\Anaconda3\\lib\\site-packages\\seaborn\\_decorators.py:36: FutureWarning: Pass the following variable as a keyword arg: x. From version 0.12, the only valid positional argument will be `data`, and passing other arguments without an explicit keyword will result in an error or misinterpretation.\n",
      "  warnings.warn(\n"
     ]
    },
    {
     "data": {
      "text/plain": [
       "<AxesSubplot:xlabel='tcp_urg_packet'>"
      ]
     },
     "execution_count": 141,
     "metadata": {},
     "output_type": "execute_result"
    },
    {
     "data": {
      "image/png": "[encoded data removed]",
      "text/plain": [
       "<Figure size 432x288 with 1 Axes>"
      ]
     },
     "metadata": {
      "needs_background": "light"
     },
     "output_type": "display_data"
    }
   ],
   "source": [
    "sns.boxplot(data['tcp_urg_packet'])"
   ]
  },
  {
   "cell_type": "code",
   "execution_count": 142,
   "id": "5eff9277",
   "metadata": {},
   "outputs": [
    {
     "data": {
      "text/html": [
       "<div>\n",
       "<style scoped>\n",
       "    .dataframe tbody tr th:only-of-type {\n",
       "        vertical-align: middle;\n",
       "    }\n",
       "\n",
       "    .dataframe tbody tr th {\n",
       "        vertical-align: top;\n",
       "    }\n",
       "\n",
       "    .dataframe thead th {\n",
       "        text-align: right;\n",
       "    }\n",
       "</style>\n",
       "<table border=\"1\" class=\"dataframe\">\n",
       "  <thead>\n",
       "    <tr style=\"text-align: right;\">\n",
       "      <th></th>\n",
       "      <th>app_type</th>\n",
       "      <th>tcp_packets</th>\n",
       "      <th>dist_port_tcp</th>\n",
       "      <th>external_ips</th>\n",
       "      <th>volume_bytes</th>\n",
       "      <th>udp_packets</th>\n",
       "      <th>tcp_urg_packet</th>\n",
       "      <th>source_app_packets</th>\n",
       "      <th>remote_app_packets</th>\n",
       "      <th>source_app_bytes</th>\n",
       "      <th>remote_app_bytes</th>\n",
       "      <th>source_app_packets.1</th>\n",
       "      <th>dns_query_times</th>\n",
       "      <th>type</th>\n",
       "    </tr>\n",
       "  </thead>\n",
       "  <tbody>\n",
       "    <tr>\n",
       "      <th>1099</th>\n",
       "      <td>DailyLife</td>\n",
       "      <td>16</td>\n",
       "      <td>16</td>\n",
       "      <td>1</td>\n",
       "      <td>2024</td>\n",
       "      <td>0</td>\n",
       "      <td>1</td>\n",
       "      <td>16</td>\n",
       "      <td>18</td>\n",
       "      <td>2099</td>\n",
       "      <td>2024</td>\n",
       "      <td>16</td>\n",
       "      <td>0</td>\n",
       "      <td>benign</td>\n",
       "    </tr>\n",
       "    <tr>\n",
       "      <th>1100</th>\n",
       "      <td>DailyLife</td>\n",
       "      <td>22</td>\n",
       "      <td>22</td>\n",
       "      <td>1</td>\n",
       "      <td>2750</td>\n",
       "      <td>0</td>\n",
       "      <td>1</td>\n",
       "      <td>22</td>\n",
       "      <td>22</td>\n",
       "      <td>2804</td>\n",
       "      <td>2750</td>\n",
       "      <td>22</td>\n",
       "      <td>0</td>\n",
       "      <td>benign</td>\n",
       "    </tr>\n",
       "  </tbody>\n",
       "</table>\n",
       "</div>"
      ],
      "text/plain": [
       "       app_type  tcp_packets  dist_port_tcp  external_ips  volume_bytes  \\\n",
       "1099  DailyLife           16             16             1          2024   \n",
       "1100  DailyLife           22             22             1          2750   \n",
       "\n",
       "      udp_packets  tcp_urg_packet  source_app_packets  remote_app_packets  \\\n",
       "1099            0               1                  16                  18   \n",
       "1100            0               1                  22                  22   \n",
       "\n",
       "      source_app_bytes  remote_app_bytes  source_app_packets.1  \\\n",
       "1099              2099              2024                    16   \n",
       "1100              2804              2750                    22   \n",
       "\n",
       "      dns_query_times    type  \n",
       "1099                0  benign  \n",
       "1100                0  benign  "
      ]
     },
     "execution_count": 142,
     "metadata": {},
     "output_type": "execute_result"
    }
   ],
   "source": [
    "data.loc[data['tcp_urg_packet'] > 0]"
   ]
  },
  {
   "cell_type": "markdown",
   "id": "d3d83928",
   "metadata": {},
   "source": [
    "Since only 2 apps have a value of 1 and all other apps have value 0, the original author drops this column and says that is redundant. We agree with this but then decide follow a similar approach to other other columns that seem anomalous and plot boxplots to see if it is reasonable to consider dropping those columns."
   ]
  },
  {
   "cell_type": "code",
   "execution_count": 143,
   "id": "875580ab",
   "metadata": {},
   "outputs": [],
   "source": [
    "data = data.drop('tcp_urg_packet',axis=1).copy()"
   ]
  },
  {
   "cell_type": "code",
   "execution_count": 144,
   "id": "08d17f89",
   "metadata": {},
   "outputs": [
    {
     "data": {
      "text/html": [
       "<div>\n",
       "<style scoped>\n",
       "    .dataframe tbody tr th:only-of-type {\n",
       "        vertical-align: middle;\n",
       "    }\n",
       "\n",
       "    .dataframe tbody tr th {\n",
       "        vertical-align: top;\n",
       "    }\n",
       "\n",
       "    .dataframe thead th {\n",
       "        text-align: right;\n",
       "    }\n",
       "</style>\n",
       "<table border=\"1\" class=\"dataframe\">\n",
       "  <thead>\n",
       "    <tr style=\"text-align: right;\">\n",
       "      <th></th>\n",
       "      <th>tcp_packets</th>\n",
       "      <th>dist_port_tcp</th>\n",
       "      <th>external_ips</th>\n",
       "      <th>volume_bytes</th>\n",
       "      <th>udp_packets</th>\n",
       "      <th>source_app_packets</th>\n",
       "      <th>remote_app_packets</th>\n",
       "      <th>source_app_bytes</th>\n",
       "      <th>remote_app_bytes</th>\n",
       "      <th>source_app_packets.1</th>\n",
       "      <th>dns_query_times</th>\n",
       "    </tr>\n",
       "  </thead>\n",
       "  <tbody>\n",
       "    <tr>\n",
       "      <th>count</th>\n",
       "      <td>7845.000000</td>\n",
       "      <td>7845.000000</td>\n",
       "      <td>7845.000000</td>\n",
       "      <td>7.845000e+03</td>\n",
       "      <td>7845.000000</td>\n",
       "      <td>7845.000000</td>\n",
       "      <td>7845.000000</td>\n",
       "      <td>7.845000e+03</td>\n",
       "      <td>7.845000e+03</td>\n",
       "      <td>7845.000000</td>\n",
       "      <td>7845.000000</td>\n",
       "    </tr>\n",
       "    <tr>\n",
       "      <th>mean</th>\n",
       "      <td>147.578713</td>\n",
       "      <td>7.738177</td>\n",
       "      <td>2.748502</td>\n",
       "      <td>1.654375e+04</td>\n",
       "      <td>0.056724</td>\n",
       "      <td>152.911918</td>\n",
       "      <td>194.706310</td>\n",
       "      <td>2.024967e+05</td>\n",
       "      <td>1.692260e+04</td>\n",
       "      <td>152.911918</td>\n",
       "      <td>4.898917</td>\n",
       "    </tr>\n",
       "    <tr>\n",
       "      <th>std</th>\n",
       "      <td>777.920084</td>\n",
       "      <td>51.654222</td>\n",
       "      <td>2.923005</td>\n",
       "      <td>8.225650e+04</td>\n",
       "      <td>1.394046</td>\n",
       "      <td>779.034618</td>\n",
       "      <td>1068.112696</td>\n",
       "      <td>1.401076e+06</td>\n",
       "      <td>8.238182e+04</td>\n",
       "      <td>779.034618</td>\n",
       "      <td>18.900478</td>\n",
       "    </tr>\n",
       "    <tr>\n",
       "      <th>min</th>\n",
       "      <td>0.000000</td>\n",
       "      <td>0.000000</td>\n",
       "      <td>0.000000</td>\n",
       "      <td>0.000000e+00</td>\n",
       "      <td>0.000000</td>\n",
       "      <td>1.000000</td>\n",
       "      <td>0.000000</td>\n",
       "      <td>0.000000e+00</td>\n",
       "      <td>6.900000e+01</td>\n",
       "      <td>1.000000</td>\n",
       "      <td>0.000000</td>\n",
       "    </tr>\n",
       "    <tr>\n",
       "      <th>25%</th>\n",
       "      <td>6.000000</td>\n",
       "      <td>0.000000</td>\n",
       "      <td>1.000000</td>\n",
       "      <td>8.880000e+02</td>\n",
       "      <td>0.000000</td>\n",
       "      <td>7.000000</td>\n",
       "      <td>7.000000</td>\n",
       "      <td>9.340000e+02</td>\n",
       "      <td>1.046000e+03</td>\n",
       "      <td>7.000000</td>\n",
       "      <td>1.000000</td>\n",
       "    </tr>\n",
       "    <tr>\n",
       "      <th>50%</th>\n",
       "      <td>25.000000</td>\n",
       "      <td>0.000000</td>\n",
       "      <td>2.000000</td>\n",
       "      <td>3.509000e+03</td>\n",
       "      <td>0.000000</td>\n",
       "      <td>30.000000</td>\n",
       "      <td>24.000000</td>\n",
       "      <td>4.090000e+03</td>\n",
       "      <td>3.803000e+03</td>\n",
       "      <td>30.000000</td>\n",
       "      <td>3.000000</td>\n",
       "    </tr>\n",
       "    <tr>\n",
       "      <th>75%</th>\n",
       "      <td>93.000000</td>\n",
       "      <td>0.000000</td>\n",
       "      <td>4.000000</td>\n",
       "      <td>1.218900e+04</td>\n",
       "      <td>0.000000</td>\n",
       "      <td>98.000000</td>\n",
       "      <td>92.000000</td>\n",
       "      <td>2.624400e+04</td>\n",
       "      <td>1.261000e+04</td>\n",
       "      <td>98.000000</td>\n",
       "      <td>5.000000</td>\n",
       "    </tr>\n",
       "    <tr>\n",
       "      <th>max</th>\n",
       "      <td>37143.000000</td>\n",
       "      <td>2167.000000</td>\n",
       "      <td>43.000000</td>\n",
       "      <td>4.226790e+06</td>\n",
       "      <td>65.000000</td>\n",
       "      <td>37150.000000</td>\n",
       "      <td>45928.000000</td>\n",
       "      <td>6.823516e+07</td>\n",
       "      <td>4.227323e+06</td>\n",
       "      <td>37150.000000</td>\n",
       "      <td>913.000000</td>\n",
       "    </tr>\n",
       "  </tbody>\n",
       "</table>\n",
       "</div>"
      ],
      "text/plain": [
       "        tcp_packets  dist_port_tcp  external_ips  volume_bytes  udp_packets  \\\n",
       "count   7845.000000    7845.000000   7845.000000  7.845000e+03  7845.000000   \n",
       "mean     147.578713       7.738177      2.748502  1.654375e+04     0.056724   \n",
       "std      777.920084      51.654222      2.923005  8.225650e+04     1.394046   \n",
       "min        0.000000       0.000000      0.000000  0.000000e+00     0.000000   \n",
       "25%        6.000000       0.000000      1.000000  8.880000e+02     0.000000   \n",
       "50%       25.000000       0.000000      2.000000  3.509000e+03     0.000000   \n",
       "75%       93.000000       0.000000      4.000000  1.218900e+04     0.000000   \n",
       "max    37143.000000    2167.000000     43.000000  4.226790e+06    65.000000   \n",
       "\n",
       "       source_app_packets  remote_app_packets  source_app_bytes  \\\n",
       "count         7845.000000         7845.000000      7.845000e+03   \n",
       "mean           152.911918          194.706310      2.024967e+05   \n",
       "std            779.034618         1068.112696      1.401076e+06   \n",
       "min              1.000000            0.000000      0.000000e+00   \n",
       "25%              7.000000            7.000000      9.340000e+02   \n",
       "50%             30.000000           24.000000      4.090000e+03   \n",
       "75%             98.000000           92.000000      2.624400e+04   \n",
       "max          37150.000000        45928.000000      6.823516e+07   \n",
       "\n",
       "       remote_app_bytes  source_app_packets.1  dns_query_times  \n",
       "count      7.845000e+03           7845.000000      7845.000000  \n",
       "mean       1.692260e+04            152.911918         4.898917  \n",
       "std        8.238182e+04            779.034618        18.900478  \n",
       "min        6.900000e+01              1.000000         0.000000  \n",
       "25%        1.046000e+03              7.000000         1.000000  \n",
       "50%        3.803000e+03             30.000000         3.000000  \n",
       "75%        1.261000e+04             98.000000         5.000000  \n",
       "max        4.227323e+06          37150.000000       913.000000  "
      ]
     },
     "execution_count": 144,
     "metadata": {},
     "output_type": "execute_result"
    }
   ],
   "source": [
    "data.describe()"
   ]
  },
  {
   "cell_type": "markdown",
   "id": "c43805b6",
   "metadata": {},
   "source": [
    "We decide that 'dist_port_tcp' and 'udp_packets' seem almost identical in description to tcp_urg_packet so we explore these two."
   ]
  },
  {
   "cell_type": "code",
   "execution_count": 145,
   "id": "45317b5e",
   "metadata": {},
   "outputs": [
    {
     "name": "stderr",
     "output_type": "stream",
     "text": [
      "C:\\ProgramData\\Anaconda3\\lib\\site-packages\\seaborn\\_decorators.py:36: FutureWarning: Pass the following variable as a keyword arg: x. From version 0.12, the only valid positional argument will be `data`, and passing other arguments without an explicit keyword will result in an error or misinterpretation.\n",
      "  warnings.warn(\n",
      "C:\\ProgramData\\Anaconda3\\lib\\site-packages\\seaborn\\_decorators.py:36: FutureWarning: Pass the following variable as a keyword arg: x. From version 0.12, the only valid positional argument will be `data`, and passing other arguments without an explicit keyword will result in an error or misinterpretation.\n",
      "  warnings.warn(\n"
     ]
    },
    {
     "data": {
      "text/plain": [
       "<AxesSubplot:xlabel='udp_packets'>"
      ]
     },
     "execution_count": 145,
     "metadata": {},
     "output_type": "execute_result"
    },
    {
     "data": {
      "image/png": "[encoded data removed]",
      "text/plain": [
       "<Figure size 1008x288 with 2 Axes>"
      ]
     },
     "metadata": {
      "needs_background": "light"
     },
     "output_type": "display_data"
    }
   ],
   "source": [
    "dist_port = data['dist_port_tcp']\n",
    "udp_pack = data['udp_packets']\n",
    "\n",
    "fig, axs = plt.subplots(ncols=2,figsize=(14,4))\n",
    "sns.boxplot(dist_port,ax=axs[1])\n",
    "sns.boxplot(udp_pack,ax=axs[0])"
   ]
  },
  {
   "cell_type": "code",
   "execution_count": 146,
   "id": "cba330ae",
   "metadata": {},
   "outputs": [
    {
     "data": {
      "text/plain": [
       "(56, 1602)"
      ]
     },
     "execution_count": 146,
     "metadata": {},
     "output_type": "execute_result"
    }
   ],
   "source": [
    "len(data[udp_pack>0]), len(data[dist_port>0])"
   ]
  },
  {
   "cell_type": "markdown",
   "id": "03e3c78c",
   "metadata": {},
   "source": [
    "As seen above, there is far more data that takes non-zero value for the aforementioned columns and so it does not make sense to drop them despite them seeming similar to the 'tcp_urg_packet' column at first glance of the description matrix."
   ]
  },
  {
   "cell_type": "markdown",
   "id": "d0ab0660",
   "metadata": {},
   "source": [
    "Now we use the `pairplot` function to plot scatterplots between each possible pair of columns and see if we can make any further observations."
   ]
  },
  {
   "cell_type": "code",
   "execution_count": 147,
   "id": "9c6050b8",
   "metadata": {},
   "outputs": [
    {
     "data": {
      "text/plain": [
       "<seaborn.axisgrid.PairGrid at 0x1cd65e61e50>"
      ]
     },
     "execution_count": 147,
     "metadata": {},
     "output_type": "execute_result"
    },
    {
     "data": {
      "image/png": "[encoded data removed]",
      "text/plain": [
       "<Figure size 1980x1980 with 132 Axes>"
      ]
     },
     "metadata": {
      "needs_background": "light"
     },
     "output_type": "display_data"
    }
   ],
   "source": [
    "sns.pairplot(data)"
   ]
  },
  {
   "cell_type": "code",
   "execution_count": 152,
   "id": "630f2d20",
   "metadata": {},
   "outputs": [],
   "source": [
    "# data=data[data.tcp_packets<20000].copy()\n",
    "# data=data[data.dist_port_tcp<1400].copy()\n",
    "# data=data[data.external_ips<35].copy()\n",
    "# data=data[data.volume_bytes<2000000].copy()\n",
    "# data=data[data.udp_packets<40].copy()\n",
    "# data=data[data.remote_app_packets<15000].copy()"
   ]
  },
  {
   "cell_type": "markdown",
   "id": "b6b1f96a",
   "metadata": {},
   "source": [
    "We comment out the code above used by the author because there was no real clarification behind their reasoning. Instead we explore what happens on the complement of a few of the cases above."
   ]
  },
  {
   "cell_type": "code",
   "execution_count": 148,
   "id": "8ee731d5",
   "metadata": {},
   "outputs": [
    {
     "data": {
      "text/html": [
       "<div>\n",
       "<style scoped>\n",
       "    .dataframe tbody tr th:only-of-type {\n",
       "        vertical-align: middle;\n",
       "    }\n",
       "\n",
       "    .dataframe tbody tr th {\n",
       "        vertical-align: top;\n",
       "    }\n",
       "\n",
       "    .dataframe thead th {\n",
       "        text-align: right;\n",
       "    }\n",
       "</style>\n",
       "<table border=\"1\" class=\"dataframe\">\n",
       "  <thead>\n",
       "    <tr style=\"text-align: right;\">\n",
       "      <th></th>\n",
       "      <th>app_type</th>\n",
       "      <th>tcp_packets</th>\n",
       "      <th>dist_port_tcp</th>\n",
       "      <th>external_ips</th>\n",
       "      <th>volume_bytes</th>\n",
       "      <th>udp_packets</th>\n",
       "      <th>source_app_packets</th>\n",
       "      <th>remote_app_packets</th>\n",
       "      <th>source_app_bytes</th>\n",
       "      <th>remote_app_bytes</th>\n",
       "      <th>source_app_packets.1</th>\n",
       "      <th>dns_query_times</th>\n",
       "      <th>type</th>\n",
       "    </tr>\n",
       "  </thead>\n",
       "  <tbody>\n",
       "    <tr>\n",
       "      <th>1496</th>\n",
       "      <td>Finance</td>\n",
       "      <td>37143</td>\n",
       "      <td>8</td>\n",
       "      <td>5</td>\n",
       "      <td>4226790</td>\n",
       "      <td>0</td>\n",
       "      <td>37150</td>\n",
       "      <td>34036</td>\n",
       "      <td>14124150</td>\n",
       "      <td>4227323</td>\n",
       "      <td>37150</td>\n",
       "      <td>7</td>\n",
       "      <td>benign</td>\n",
       "    </tr>\n",
       "    <tr>\n",
       "      <th>3347</th>\n",
       "      <td>Productivity</td>\n",
       "      <td>24513</td>\n",
       "      <td>0</td>\n",
       "      <td>2</td>\n",
       "      <td>1489495</td>\n",
       "      <td>0</td>\n",
       "      <td>24515</td>\n",
       "      <td>45928</td>\n",
       "      <td>68235164</td>\n",
       "      <td>1489645</td>\n",
       "      <td>24515</td>\n",
       "      <td>2</td>\n",
       "      <td>benign</td>\n",
       "    </tr>\n",
       "  </tbody>\n",
       "</table>\n",
       "</div>"
      ],
      "text/plain": [
       "          app_type  tcp_packets  dist_port_tcp  external_ips  volume_bytes  \\\n",
       "1496       Finance        37143              8             5       4226790   \n",
       "3347  Productivity        24513              0             2       1489495   \n",
       "\n",
       "      udp_packets  source_app_packets  remote_app_packets  source_app_bytes  \\\n",
       "1496            0               37150               34036          14124150   \n",
       "3347            0               24515               45928          68235164   \n",
       "\n",
       "      remote_app_bytes  source_app_packets.1  dns_query_times    type  \n",
       "1496           4227323                 37150                7  benign  \n",
       "3347           1489645                 24515                2  benign  "
      ]
     },
     "execution_count": 148,
     "metadata": {},
     "output_type": "execute_result"
    }
   ],
   "source": [
    "data[data['tcp_packets']>=20000]"
   ]
  },
  {
   "cell_type": "code",
   "execution_count": 154,
   "id": "604f845f",
   "metadata": {},
   "outputs": [
    {
     "name": "stderr",
     "output_type": "stream",
     "text": [
      "C:\\ProgramData\\Anaconda3\\lib\\site-packages\\seaborn\\_decorators.py:36: FutureWarning: Pass the following variable as a keyword arg: x. From version 0.12, the only valid positional argument will be `data`, and passing other arguments without an explicit keyword will result in an error or misinterpretation.\n",
      "  warnings.warn(\n"
     ]
    },
    {
     "data": {
      "text/plain": [
       "<AxesSubplot:xlabel='tcp_packets'>"
      ]
     },
     "execution_count": 154,
     "metadata": {},
     "output_type": "execute_result"
    },
    {
     "data": {
      "image/png": "[encoded data removed]",
      "text/plain": [
       "<Figure size 432x288 with 1 Axes>"
      ]
     },
     "metadata": {
      "needs_background": "light"
     },
     "output_type": "display_data"
    }
   ],
   "source": [
    "sns.boxplot(data['tcp_packets'])"
   ]
  },
  {
   "cell_type": "code",
   "execution_count": 151,
   "id": "3b3f8912",
   "metadata": {},
   "outputs": [
    {
     "data": {
      "text/html": [
       "<div>\n",
       "<style scoped>\n",
       "    .dataframe tbody tr th:only-of-type {\n",
       "        vertical-align: middle;\n",
       "    }\n",
       "\n",
       "    .dataframe tbody tr th {\n",
       "        vertical-align: top;\n",
       "    }\n",
       "\n",
       "    .dataframe thead th {\n",
       "        text-align: right;\n",
       "    }\n",
       "</style>\n",
       "<table border=\"1\" class=\"dataframe\">\n",
       "  <thead>\n",
       "    <tr style=\"text-align: right;\">\n",
       "      <th></th>\n",
       "      <th>app_type</th>\n",
       "      <th>tcp_packets</th>\n",
       "      <th>dist_port_tcp</th>\n",
       "      <th>external_ips</th>\n",
       "      <th>volume_bytes</th>\n",
       "      <th>udp_packets</th>\n",
       "      <th>source_app_packets</th>\n",
       "      <th>remote_app_packets</th>\n",
       "      <th>source_app_bytes</th>\n",
       "      <th>remote_app_bytes</th>\n",
       "      <th>source_app_packets.1</th>\n",
       "      <th>dns_query_times</th>\n",
       "      <th>type</th>\n",
       "    </tr>\n",
       "  </thead>\n",
       "  <tbody>\n",
       "    <tr>\n",
       "      <th>1038</th>\n",
       "      <td>DailyLife</td>\n",
       "      <td>2211</td>\n",
       "      <td>2167</td>\n",
       "      <td>3</td>\n",
       "      <td>255335</td>\n",
       "      <td>0</td>\n",
       "      <td>2216</td>\n",
       "      <td>2149</td>\n",
       "      <td>1355156</td>\n",
       "      <td>255720</td>\n",
       "      <td>2216</td>\n",
       "      <td>5</td>\n",
       "      <td>benign</td>\n",
       "    </tr>\n",
       "    <tr>\n",
       "      <th>1631</th>\n",
       "      <td>Finance</td>\n",
       "      <td>1603</td>\n",
       "      <td>1603</td>\n",
       "      <td>1</td>\n",
       "      <td>252897</td>\n",
       "      <td>0</td>\n",
       "      <td>1607</td>\n",
       "      <td>1966</td>\n",
       "      <td>1626330</td>\n",
       "      <td>253243</td>\n",
       "      <td>1607</td>\n",
       "      <td>4</td>\n",
       "      <td>benign</td>\n",
       "    </tr>\n",
       "  </tbody>\n",
       "</table>\n",
       "</div>"
      ],
      "text/plain": [
       "       app_type  tcp_packets  dist_port_tcp  external_ips  volume_bytes  \\\n",
       "1038  DailyLife         2211           2167             3        255335   \n",
       "1631    Finance         1603           1603             1        252897   \n",
       "\n",
       "      udp_packets  source_app_packets  remote_app_packets  source_app_bytes  \\\n",
       "1038            0                2216                2149           1355156   \n",
       "1631            0                1607                1966           1626330   \n",
       "\n",
       "      remote_app_bytes  source_app_packets.1  dns_query_times    type  \n",
       "1038            255720                  2216                5  benign  \n",
       "1631            253243                  1607                4  benign  "
      ]
     },
     "execution_count": 151,
     "metadata": {},
     "output_type": "execute_result"
    }
   ],
   "source": [
    "data[data['dist_port_tcp']>=1400]"
   ]
  },
  {
   "cell_type": "code",
   "execution_count": 153,
   "id": "7caa0047",
   "metadata": {},
   "outputs": [
    {
     "data": {
      "text/html": [
       "<div>\n",
       "<style scoped>\n",
       "    .dataframe tbody tr th:only-of-type {\n",
       "        vertical-align: middle;\n",
       "    }\n",
       "\n",
       "    .dataframe tbody tr th {\n",
       "        vertical-align: top;\n",
       "    }\n",
       "\n",
       "    .dataframe thead th {\n",
       "        text-align: right;\n",
       "    }\n",
       "</style>\n",
       "<table border=\"1\" class=\"dataframe\">\n",
       "  <thead>\n",
       "    <tr style=\"text-align: right;\">\n",
       "      <th></th>\n",
       "      <th>app_type</th>\n",
       "      <th>tcp_packets</th>\n",
       "      <th>dist_port_tcp</th>\n",
       "      <th>external_ips</th>\n",
       "      <th>volume_bytes</th>\n",
       "      <th>udp_packets</th>\n",
       "      <th>source_app_packets</th>\n",
       "      <th>remote_app_packets</th>\n",
       "      <th>source_app_bytes</th>\n",
       "      <th>remote_app_bytes</th>\n",
       "      <th>source_app_packets.1</th>\n",
       "      <th>dns_query_times</th>\n",
       "      <th>type</th>\n",
       "    </tr>\n",
       "  </thead>\n",
       "  <tbody>\n",
       "    <tr>\n",
       "      <th>480</th>\n",
       "      <td>chess</td>\n",
       "      <td>0</td>\n",
       "      <td>0</td>\n",
       "      <td>2</td>\n",
       "      <td>8360</td>\n",
       "      <td>55</td>\n",
       "      <td>56</td>\n",
       "      <td>1</td>\n",
       "      <td>300</td>\n",
       "      <td>8430</td>\n",
       "      <td>56</td>\n",
       "      <td>1</td>\n",
       "      <td>benign</td>\n",
       "    </tr>\n",
       "    <tr>\n",
       "      <th>2209</th>\n",
       "      <td>MediaAndVideo</td>\n",
       "      <td>115</td>\n",
       "      <td>22</td>\n",
       "      <td>8</td>\n",
       "      <td>37724</td>\n",
       "      <td>65</td>\n",
       "      <td>196</td>\n",
       "      <td>205</td>\n",
       "      <td>164561</td>\n",
       "      <td>38778</td>\n",
       "      <td>196</td>\n",
       "      <td>13</td>\n",
       "      <td>benign</td>\n",
       "    </tr>\n",
       "    <tr>\n",
       "      <th>2466</th>\n",
       "      <td>MediaAndVideo</td>\n",
       "      <td>102</td>\n",
       "      <td>0</td>\n",
       "      <td>7</td>\n",
       "      <td>36673</td>\n",
       "      <td>65</td>\n",
       "      <td>174</td>\n",
       "      <td>160</td>\n",
       "      <td>152069</td>\n",
       "      <td>37051</td>\n",
       "      <td>174</td>\n",
       "      <td>5</td>\n",
       "      <td>benign</td>\n",
       "    </tr>\n",
       "  </tbody>\n",
       "</table>\n",
       "</div>"
      ],
      "text/plain": [
       "           app_type  tcp_packets  dist_port_tcp  external_ips  volume_bytes  \\\n",
       "480           chess            0              0             2          8360   \n",
       "2209  MediaAndVideo          115             22             8         37724   \n",
       "2466  MediaAndVideo          102              0             7         36673   \n",
       "\n",
       "      udp_packets  source_app_packets  remote_app_packets  source_app_bytes  \\\n",
       "480            55                  56                   1               300   \n",
       "2209           65                 196                 205            164561   \n",
       "2466           65                 174                 160            152069   \n",
       "\n",
       "      remote_app_bytes  source_app_packets.1  dns_query_times    type  \n",
       "480               8430                    56                1  benign  \n",
       "2209             38778                   196               13  benign  \n",
       "2466             37051                   174                5  benign  "
      ]
     },
     "execution_count": 153,
     "metadata": {},
     "output_type": "execute_result"
    }
   ],
   "source": [
    "data[data['udp_packets']>40]"
   ]
  },
  {
   "cell_type": "markdown",
   "id": "7b32672a",
   "metadata": {},
   "source": [
    "We can now see that the author was simply dropping the most extreme outliers found within these columns/features. This can be seen in the respective boxplots for each column (the latter two were already plotted above) as well as the short list of 2-3 apps that satisfy these feature paramters.<br></br>\n",
    "To this effect, we stick with what the author did and find it suitable to drop these apps but we also examine how many rows we are dropping as a result."
   ]
  },
  {
   "cell_type": "code",
   "execution_count": 155,
   "id": "3119a016",
   "metadata": {},
   "outputs": [
    {
     "data": {
      "text/plain": [
       "7845"
      ]
     },
     "execution_count": 155,
     "metadata": {},
     "output_type": "execute_result"
    }
   ],
   "source": [
    "len(data)"
   ]
  },
  {
   "cell_type": "code",
   "execution_count": 156,
   "id": "9ec5b90b",
   "metadata": {},
   "outputs": [],
   "source": [
    "data=data[data.tcp_packets<20000].copy()\n",
    "data=data[data.dist_port_tcp<1400].copy()\n",
    "data=data[data.external_ips<35].copy()\n",
    "data=data[data.volume_bytes<2000000].copy()\n",
    "data=data[data.udp_packets<40].copy()\n",
    "data=data[data.remote_app_packets<15000].copy()"
   ]
  },
  {
   "cell_type": "code",
   "execution_count": 158,
   "id": "96dc7583",
   "metadata": {},
   "outputs": [
    {
     "data": {
      "text/plain": [
       "7832"
      ]
     },
     "execution_count": 158,
     "metadata": {},
     "output_type": "execute_result"
    }
   ],
   "source": [
    "len(data) #we drop 13 rows in total"
   ]
  },
  {
   "cell_type": "code",
   "execution_count": 159,
   "id": "759503ec",
   "metadata": {},
   "outputs": [
    {
     "data": {
      "text/plain": [
       "app_type                AntiVirusAntiVirusAntiVirusAntiVirusAntiVirusA...\n",
       "tcp_packets                                                         15038\n",
       "dist_port_tcp                                                        3514\n",
       "external_ips                                                         1434\n",
       "volume_bytes                                                      2061210\n",
       "udp_packets                                                            38\n",
       "source_app_packets                                                  21720\n",
       "remote_app_packets                                                  18841\n",
       "source_app_bytes                                                  8615120\n",
       "remote_app_bytes                                                  2456160\n",
       "source_app_packets.1                                                21720\n",
       "dns_query_times                                                      5095\n",
       "type                    benignbenignbenignbenignbenignbenignbenignbeni...\n",
       "dtype: object"
      ]
     },
     "execution_count": 159,
     "metadata": {},
     "output_type": "execute_result"
    }
   ],
   "source": [
    "data[data.duplicated()].sum()"
   ]
  },
  {
   "cell_type": "code",
   "execution_count": 161,
   "id": "2392893f",
   "metadata": {},
   "outputs": [
    {
     "data": {
      "text/html": [
       "<div>\n",
       "<style scoped>\n",
       "    .dataframe tbody tr th:only-of-type {\n",
       "        vertical-align: middle;\n",
       "    }\n",
       "\n",
       "    .dataframe tbody tr th {\n",
       "        vertical-align: top;\n",
       "    }\n",
       "\n",
       "    .dataframe thead th {\n",
       "        text-align: right;\n",
       "    }\n",
       "</style>\n",
       "<table border=\"1\" class=\"dataframe\">\n",
       "  <thead>\n",
       "    <tr style=\"text-align: right;\">\n",
       "      <th></th>\n",
       "      <th>source_app_packets</th>\n",
       "      <th>source_app_packets.1</th>\n",
       "    </tr>\n",
       "  </thead>\n",
       "  <tbody>\n",
       "    <tr>\n",
       "      <th>0</th>\n",
       "      <td>39</td>\n",
       "      <td>39</td>\n",
       "    </tr>\n",
       "    <tr>\n",
       "      <th>1</th>\n",
       "      <td>128</td>\n",
       "      <td>128</td>\n",
       "    </tr>\n",
       "    <tr>\n",
       "      <th>2</th>\n",
       "      <td>205</td>\n",
       "      <td>205</td>\n",
       "    </tr>\n",
       "    <tr>\n",
       "      <th>3</th>\n",
       "      <td>7</td>\n",
       "      <td>7</td>\n",
       "    </tr>\n",
       "    <tr>\n",
       "      <th>4</th>\n",
       "      <td>7</td>\n",
       "      <td>7</td>\n",
       "    </tr>\n",
       "    <tr>\n",
       "      <th>...</th>\n",
       "      <td>...</td>\n",
       "      <td>...</td>\n",
       "    </tr>\n",
       "    <tr>\n",
       "      <th>7840</th>\n",
       "      <td>2</td>\n",
       "      <td>2</td>\n",
       "    </tr>\n",
       "    <tr>\n",
       "      <th>7841</th>\n",
       "      <td>5</td>\n",
       "      <td>5</td>\n",
       "    </tr>\n",
       "    <tr>\n",
       "      <th>7842</th>\n",
       "      <td>2</td>\n",
       "      <td>2</td>\n",
       "    </tr>\n",
       "    <tr>\n",
       "      <th>7843</th>\n",
       "      <td>2</td>\n",
       "      <td>2</td>\n",
       "    </tr>\n",
       "    <tr>\n",
       "      <th>7844</th>\n",
       "      <td>2</td>\n",
       "      <td>2</td>\n",
       "    </tr>\n",
       "  </tbody>\n",
       "</table>\n",
       "<p>7832 rows × 2 columns</p>\n",
       "</div>"
      ],
      "text/plain": [
       "      source_app_packets  source_app_packets.1\n",
       "0                     39                    39\n",
       "1                    128                   128\n",
       "2                    205                   205\n",
       "3                      7                     7\n",
       "4                      7                     7\n",
       "...                  ...                   ...\n",
       "7840                   2                     2\n",
       "7841                   5                     5\n",
       "7842                   2                     2\n",
       "7843                   2                     2\n",
       "7844                   2                     2\n",
       "\n",
       "[7832 rows x 2 columns]"
      ]
     },
     "execution_count": 161,
     "metadata": {},
     "output_type": "execute_result"
    }
   ],
   "source": [
    "data[['source_app_packets','source_app_packets.1']]"
   ]
  },
  {
   "cell_type": "markdown",
   "id": "ca6d52ec",
   "metadata": {},
   "source": [
    "The two columns are identical and so we drop one."
   ]
  },
  {
   "cell_type": "code",
   "execution_count": 162,
   "id": "065eb6fd",
   "metadata": {},
   "outputs": [],
   "source": [
    "data=data.drop('source_app_packets.1',axis=1).copy()"
   ]
  },
  {
   "cell_type": "code",
   "execution_count": 166,
   "id": "7a844f5c",
   "metadata": {},
   "outputs": [
    {
     "name": "stdout",
     "output_type": "stream",
     "text": [
      "<class 'pandas.core.frame.DataFrame'>\n",
      "Int64Index: 7832 entries, 0 to 7844\n",
      "Data columns (total 12 columns):\n",
      " #   Column              Non-Null Count  Dtype \n",
      "---  ------              --------------  ----- \n",
      " 0   app_type            7832 non-null   object\n",
      " 1   tcp_packets         7832 non-null   int64 \n",
      " 2   dist_port_tcp       7832 non-null   int64 \n",
      " 3   external_ips        7832 non-null   int64 \n",
      " 4   volume_bytes        7832 non-null   int64 \n",
      " 5   udp_packets         7832 non-null   int64 \n",
      " 6   source_app_packets  7832 non-null   int64 \n",
      " 7   remote_app_packets  7832 non-null   int64 \n",
      " 8   source_app_bytes    7832 non-null   int64 \n",
      " 9   remote_app_bytes    7832 non-null   int64 \n",
      " 10  dns_query_times     7832 non-null   int64 \n",
      " 11  type                7832 non-null   object\n",
      "dtypes: int64(10), object(2)\n",
      "memory usage: 795.4+ KB\n"
     ]
    }
   ],
   "source": [
    "data.info()"
   ]
  },
  {
   "cell_type": "code",
   "execution_count": 167,
   "id": "398128f3",
   "metadata": {},
   "outputs": [],
   "source": [
    "scaler = preprocessing.RobustScaler()\n",
    "scaledData = scaler.fit_transform(data.iloc[:,1:-1])\n",
    "scaledData = pd.DataFrame(scaledData, columns=['tcp_packets','dist_port_tcp','external_ips','volume_bytes',\n",
    "                                               'udp_packets','source_app_packets','remote_app_packets',\n",
    "                                               'source_app_bytes','remote_app_bytes','dns_query_times'])"
   ]
  },
  {
   "cell_type": "markdown",
   "id": "2963d4c0",
   "metadata": {},
   "source": [
    "## Dynamic Analysis Modelling"
   ]
  },
  {
   "cell_type": "code",
   "execution_count": 168,
   "id": "1bc84564",
   "metadata": {},
   "outputs": [],
   "source": [
    "X_train, X_test, y_train, y_test = train_test_split(scaledData.iloc[:,0:10], data.type.astype(\"str\"), \n",
    "                                                    test_size=0.25, random_state=45)"
   ]
  },
  {
   "cell_type": "markdown",
   "id": "0fb56179",
   "metadata": {},
   "source": [
    "#### Naive Bayes"
   ]
  },
  {
   "cell_type": "code",
   "execution_count": 169,
   "id": "d7e1372f",
   "metadata": {},
   "outputs": [
    {
     "name": "stdout",
     "output_type": "stream",
     "text": [
      "naive_bayes\n",
      "0.44688457609805926\n",
      "              precision    recall  f1-score   support\n",
      "\n",
      "      benign       0.81      0.12      0.20      1190\n",
      "   malicious       0.41      0.96      0.58       768\n",
      "\n",
      "    accuracy                           0.45      1958\n",
      "   macro avg       0.61      0.54      0.39      1958\n",
      "weighted avg       0.66      0.45      0.35      1958\n",
      "\n",
      "cohen kappa score\n",
      "0.06082933470572538\n"
     ]
    }
   ],
   "source": [
    "gnb = GaussianNB()\n",
    "gnb.fit(X_train, y_train)\n",
    "pred = gnb.predict(X_test)\n",
    "## accuracy\n",
    "accuracy = accuracy_score(y_test,pred)\n",
    "print(\"naive_bayes\")\n",
    "print(accuracy)\n",
    "print(classification_report(y_test,pred, labels=None))\n",
    "print(\"cohen kappa score\")\n",
    "print(cohen_kappa_score(y_test, pred))"
   ]
  },
  {
   "cell_type": "markdown",
   "id": "2b0e7ce0",
   "metadata": {},
   "source": [
    "#### KNeighbours"
   ]
  },
  {
   "cell_type": "code",
   "execution_count": 170,
   "id": "9c79794c",
   "metadata": {},
   "outputs": [
    {
     "name": "stdout",
     "output_type": "stream",
     "text": [
      "kneighbors 3\n",
      "0.8861082737487231\n",
      "              precision    recall  f1-score   support\n",
      "\n",
      "      benign       0.90      0.91      0.91      1173\n",
      "   malicious       0.87      0.85      0.86       785\n",
      "\n",
      "    accuracy                           0.89      1958\n",
      "   macro avg       0.88      0.88      0.88      1958\n",
      "weighted avg       0.89      0.89      0.89      1958\n",
      "\n",
      "cohen kappa score\n",
      "0.7620541314671169\n",
      "\n",
      "kneighbors 6\n",
      "0.8784473953013279\n",
      "              precision    recall  f1-score   support\n",
      "\n",
      "      benign       0.92      0.88      0.90      1240\n",
      "   malicious       0.81      0.87      0.84       718\n",
      "\n",
      "    accuracy                           0.88      1958\n",
      "   macro avg       0.87      0.88      0.87      1958\n",
      "weighted avg       0.88      0.88      0.88      1958\n",
      "\n",
      "cohen kappa score\n",
      "0.7420746759356631\n",
      "\n",
      "kneighbors 9\n",
      "0.8707865168539326\n",
      "              precision    recall  f1-score   support\n",
      "\n",
      "      benign       0.89      0.90      0.89      1175\n",
      "   malicious       0.85      0.83      0.84       783\n",
      "\n",
      "    accuracy                           0.87      1958\n",
      "   macro avg       0.87      0.86      0.86      1958\n",
      "weighted avg       0.87      0.87      0.87      1958\n",
      "\n",
      "cohen kappa score\n",
      "0.729919255030886\n",
      "\n",
      "kneighbors 12\n",
      "0.8615934627170582\n",
      "              precision    recall  f1-score   support\n",
      "\n",
      "      benign       0.88      0.89      0.89      1185\n",
      "   malicious       0.83      0.82      0.82       773\n",
      "\n",
      "    accuracy                           0.86      1958\n",
      "   macro avg       0.86      0.85      0.86      1958\n",
      "weighted avg       0.86      0.86      0.86      1958\n",
      "\n",
      "cohen kappa score\n",
      "0.7100368862537227\n",
      "\n"
     ]
    }
   ],
   "source": [
    "# kneighbors algorithm\n",
    "\n",
    "for i in range(3,15,3):\n",
    "    \n",
    "    neigh = KNeighborsClassifier(n_neighbors=i)\n",
    "    neigh.fit(X_train, y_train)\n",
    "    pred = neigh.predict(X_test)\n",
    "    # accuracy\n",
    "    accuracy = accuracy_score(pred, y_test)\n",
    "    print(\"kneighbors {}\".format(i))\n",
    "    print(accuracy)\n",
    "    print(classification_report(pred, y_test, labels=None))\n",
    "    print(\"cohen kappa score\")\n",
    "    print(cohen_kappa_score(y_test, pred))\n",
    "    print(\"\")"
   ]
  },
  {
   "cell_type": "markdown",
   "id": "bb6a4264",
   "metadata": {},
   "source": [
    "#### Random Forests"
   ]
  },
  {
   "cell_type": "code",
   "execution_count": 171,
   "id": "40ca5c98",
   "metadata": {},
   "outputs": [
    {
     "name": "stdout",
     "output_type": "stream",
     "text": [
      "RandomForestClassifier(max_depth=50, n_estimators=250, random_state=45)\n",
      "0.9172625127681308\n",
      "              precision    recall  f1-score   support\n",
      "\n",
      "      benign       0.93      0.94      0.93      1190\n",
      "   malicious       0.90      0.88      0.89       768\n",
      "\n",
      "    accuracy                           0.92      1958\n",
      "   macro avg       0.91      0.91      0.91      1958\n",
      "weighted avg       0.92      0.92      0.92      1958\n",
      "\n",
      "cohen kappa score\n",
      "0.8258206083396299\n",
      "[[1117   73]\n",
      " [  89  679]]\n"
     ]
    }
   ],
   "source": [
    "rdF=RandomForestClassifier(n_estimators=250, max_depth=50,random_state=45)\n",
    "rdF.fit(X_train,y_train)\n",
    "pred=rdF.predict(X_test)\n",
    "cm=confusion_matrix(y_test, pred)\n",
    "\n",
    "accuracy = accuracy_score(y_test,pred)\n",
    "print(rdF)\n",
    "print(accuracy)\n",
    "print(classification_report(y_test,pred, labels=None))\n",
    "print(\"cohen kappa score\")\n",
    "print(cohen_kappa_score(y_test, pred))\n",
    "print(cm)"
   ]
  }
 ],
 "metadata": {
  "kernelspec": {
   "display_name": "Python 3",
   "language": "python",
   "name": "python3"
  },
  "language_info": {
   "codemirror_mode": {
    "name": "ipython",
    "version": 3
   },
   "file_extension": ".py",
   "mimetype": "text/x-python",
   "name": "python",
   "nbconvert_exporter": "python",
   "pygments_lexer": "ipython3",
   "version": "3.8.8"
  }
 },
 "nbformat": 4,
 "nbformat_minor": 5
}
